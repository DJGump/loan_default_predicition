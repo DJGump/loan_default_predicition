{
 "cells": [
  {
   "cell_type": "code",
   "execution_count": 1,
   "metadata": {},
   "outputs": [
    {
     "data": {
      "application/javascript": [
       "\n",
       "            setTimeout(function() {\n",
       "                var nbb_cell_id = 1;\n",
       "                var nbb_unformatted_code = \"%reload_ext nb_black\";\n",
       "                var nbb_formatted_code = \"%reload_ext nb_black\";\n",
       "                var nbb_cells = Jupyter.notebook.get_cells();\n",
       "                for (var i = 0; i < nbb_cells.length; ++i) {\n",
       "                    if (nbb_cells[i].input_prompt_number == nbb_cell_id) {\n",
       "                        if (nbb_cells[i].get_text() == nbb_unformatted_code) {\n",
       "                             nbb_cells[i].set_text(nbb_formatted_code);\n",
       "                        }\n",
       "                        break;\n",
       "                    }\n",
       "                }\n",
       "            }, 500);\n",
       "            "
      ],
      "text/plain": [
       "<IPython.core.display.Javascript object>"
      ]
     },
     "metadata": {},
     "output_type": "display_data"
    }
   ],
   "source": [
    "%reload_ext nb_black"
   ]
  },
  {
   "cell_type": "code",
   "execution_count": 2,
   "metadata": {},
   "outputs": [
    {
     "data": {
      "application/javascript": [
       "\n",
       "            setTimeout(function() {\n",
       "                var nbb_cell_id = 2;\n",
       "                var nbb_unformatted_code = \"import numpy as np\\nimport pandas as pd\\nfrom matplotlib import pyplot as plt\\nimport seaborn as sns\\n\\nfrom sklearn.pipeline import Pipeline\\nfrom sklearn.compose import ColumnTransformer\\nfrom sklearn.model_selection import train_test_split, GridSearchCV\\nfrom sklearn.impute import KNNImputer, SimpleImputer\\n\\nfrom sklearn.preprocessing import StandardScaler, OneHotEncoder\\nfrom category_encoders import LeaveOneOutEncoder\\nfrom sklearn.metrics import (\\n    classification_report,\\n    confusion_matrix,\\n    f1_score,\\n    fbeta_score,\\n)\\nfrom sklearn.ensemble import RandomForestClassifier\\n\\n# Replace with whatever model import(s) you're using\\nfrom xgboost import XGBClassifier\\n\\n\\n%matplotlib inline\\npd.options.display.max_rows = 999\\npd.options.display.max_columns = 999\";\n",
       "                var nbb_formatted_code = \"import numpy as np\\nimport pandas as pd\\nfrom matplotlib import pyplot as plt\\nimport seaborn as sns\\n\\nfrom sklearn.pipeline import Pipeline\\nfrom sklearn.compose import ColumnTransformer\\nfrom sklearn.model_selection import train_test_split, GridSearchCV\\nfrom sklearn.impute import KNNImputer, SimpleImputer\\n\\nfrom sklearn.preprocessing import StandardScaler, OneHotEncoder\\nfrom category_encoders import LeaveOneOutEncoder\\nfrom sklearn.metrics import (\\n    classification_report,\\n    confusion_matrix,\\n    f1_score,\\n    fbeta_score,\\n)\\nfrom sklearn.ensemble import RandomForestClassifier\\n\\n# Replace with whatever model import(s) you're using\\nfrom xgboost import XGBClassifier\\n\\n\\n%matplotlib inline\\npd.options.display.max_rows = 999\\npd.options.display.max_columns = 999\";\n",
       "                var nbb_cells = Jupyter.notebook.get_cells();\n",
       "                for (var i = 0; i < nbb_cells.length; ++i) {\n",
       "                    if (nbb_cells[i].input_prompt_number == nbb_cell_id) {\n",
       "                        if (nbb_cells[i].get_text() == nbb_unformatted_code) {\n",
       "                             nbb_cells[i].set_text(nbb_formatted_code);\n",
       "                        }\n",
       "                        break;\n",
       "                    }\n",
       "                }\n",
       "            }, 500);\n",
       "            "
      ],
      "text/plain": [
       "<IPython.core.display.Javascript object>"
      ]
     },
     "metadata": {},
     "output_type": "display_data"
    }
   ],
   "source": [
    "import numpy as np\n",
    "import pandas as pd\n",
    "from matplotlib import pyplot as plt\n",
    "import seaborn as sns\n",
    "\n",
    "from sklearn.pipeline import Pipeline\n",
    "from sklearn.compose import ColumnTransformer\n",
    "from sklearn.model_selection import train_test_split, GridSearchCV\n",
    "from sklearn.impute import KNNImputer, SimpleImputer\n",
    "\n",
    "from sklearn.preprocessing import StandardScaler, OneHotEncoder\n",
    "from category_encoders import LeaveOneOutEncoder\n",
    "from sklearn.metrics import (\n",
    "    classification_report,\n",
    "    confusion_matrix,\n",
    "    f1_score,\n",
    "    fbeta_score,\n",
    ")\n",
    "from sklearn.ensemble import RandomForestClassifier\n",
    "\n",
    "# Replace with whatever model import(s) you're using\n",
    "from xgboost import XGBClassifier\n",
    "\n",
    "\n",
    "%matplotlib inline\n",
    "pd.options.display.max_rows = 999\n",
    "pd.options.display.max_columns = 999"
   ]
  },
  {
   "cell_type": "code",
   "execution_count": 3,
   "metadata": {},
   "outputs": [
    {
     "data": {
      "application/javascript": [
       "\n",
       "            setTimeout(function() {\n",
       "                var nbb_cell_id = 3;\n",
       "                var nbb_unformatted_code = \"def print_vif(x):\\n    import warnings\\n    import statsmodels.api as sm\\n    from statsmodels.stats.outliers_influence import variance_inflation_factor\\n\\n    \\\"\\\"\\\"Utility for checking multicollinearity assumption\\n    \\n    :param x: input features to check using VIF. This is assumed to be a pandas.DataFrame\\n    :return: nothing is returned the VIFs are printed as a pandas series\\n    \\\"\\\"\\\"\\n    # Silence numpy FutureWarning about .ptp\\n    with warnings.catch_warnings():\\n        warnings.simplefilter(\\\"ignore\\\")\\n        x = sm.add_constant(x)\\n\\n    vifs = []\\n    for i in range(x.shape[1]):\\n        vif = variance_inflation_factor(x.values, i)\\n        vifs.append(vif)\\n\\n    print(\\\"VIF results\\\\n-------------------------------\\\")\\n    print(pd.Series(vifs, index=x.columns))\\n    print(\\\"-------------------------------\\\\n\\\")\";\n",
       "                var nbb_formatted_code = \"def print_vif(x):\\n    import warnings\\n    import statsmodels.api as sm\\n    from statsmodels.stats.outliers_influence import variance_inflation_factor\\n\\n    \\\"\\\"\\\"Utility for checking multicollinearity assumption\\n    \\n    :param x: input features to check using VIF. This is assumed to be a pandas.DataFrame\\n    :return: nothing is returned the VIFs are printed as a pandas series\\n    \\\"\\\"\\\"\\n    # Silence numpy FutureWarning about .ptp\\n    with warnings.catch_warnings():\\n        warnings.simplefilter(\\\"ignore\\\")\\n        x = sm.add_constant(x)\\n\\n    vifs = []\\n    for i in range(x.shape[1]):\\n        vif = variance_inflation_factor(x.values, i)\\n        vifs.append(vif)\\n\\n    print(\\\"VIF results\\\\n-------------------------------\\\")\\n    print(pd.Series(vifs, index=x.columns))\\n    print(\\\"-------------------------------\\\\n\\\")\";\n",
       "                var nbb_cells = Jupyter.notebook.get_cells();\n",
       "                for (var i = 0; i < nbb_cells.length; ++i) {\n",
       "                    if (nbb_cells[i].input_prompt_number == nbb_cell_id) {\n",
       "                        if (nbb_cells[i].get_text() == nbb_unformatted_code) {\n",
       "                             nbb_cells[i].set_text(nbb_formatted_code);\n",
       "                        }\n",
       "                        break;\n",
       "                    }\n",
       "                }\n",
       "            }, 500);\n",
       "            "
      ],
      "text/plain": [
       "<IPython.core.display.Javascript object>"
      ]
     },
     "metadata": {},
     "output_type": "display_data"
    }
   ],
   "source": [
    "def print_vif(x):\n",
    "    import warnings\n",
    "    import statsmodels.api as sm\n",
    "    from statsmodels.stats.outliers_influence import variance_inflation_factor\n",
    "\n",
    "    \"\"\"Utility for checking multicollinearity assumption\n",
    "    \n",
    "    :param x: input features to check using VIF. This is assumed to be a pandas.DataFrame\n",
    "    :return: nothing is returned the VIFs are printed as a pandas series\n",
    "    \"\"\"\n",
    "    # Silence numpy FutureWarning about .ptp\n",
    "    with warnings.catch_warnings():\n",
    "        warnings.simplefilter(\"ignore\")\n",
    "        x = sm.add_constant(x)\n",
    "\n",
    "    vifs = []\n",
    "    for i in range(x.shape[1]):\n",
    "        vif = variance_inflation_factor(x.values, i)\n",
    "        vifs.append(vif)\n",
    "\n",
    "    print(\"VIF results\\n-------------------------------\")\n",
    "    print(pd.Series(vifs, index=x.columns))\n",
    "    print(\"-------------------------------\\n\")"
   ]
  },
  {
   "cell_type": "code",
   "execution_count": 4,
   "metadata": {},
   "outputs": [
    {
     "name": "stdout",
     "output_type": "stream",
     "text": [
      "<class 'pandas.core.frame.DataFrame'>\n",
      "RangeIndex: 522582 entries, 0 to 522581\n",
      "Data columns (total 24 columns):\n",
      " #   Column              Non-Null Count   Dtype  \n",
      "---  ------              --------------   -----  \n",
      " 0   State               522582 non-null  object \n",
      " 1   BankState           522582 non-null  object \n",
      " 2   ApprovalFY          522582 non-null  int64  \n",
      " 3   NoEmp               522582 non-null  int64  \n",
      " 4   NewExist            522582 non-null  int64  \n",
      " 5   RevLineCr           522049 non-null  float64\n",
      " 6   LowDoc              518370 non-null  float64\n",
      " 7   DisbursementGross   522582 non-null  float64\n",
      " 8   MIS_Status          522582 non-null  int64  \n",
      " 9   twoDigNAICS         522582 non-null  int64  \n",
      " 10  is_franchise        522582 non-null  float64\n",
      " 11  bank_out_of_state   522582 non-null  int64  \n",
      " 12  Term_years          522582 non-null  float64\n",
      " 13  job_category        522582 non-null  float64\n",
      " 14  retained_category   522582 non-null  float64\n",
      " 15  UrbanRural_cleaned  516078 non-null  float64\n",
      " 16  Disbr_year          522582 non-null  int64  \n",
      " 17  Disbr_Month_sin     522582 non-null  float64\n",
      " 18  Disbr_Month_cos     522582 non-null  float64\n",
      " 19  sba_pre_approv      522582 non-null  float64\n",
      " 20  bank_size           522582 non-null  float64\n",
      " 21  percent_SBA         522582 non-null  float64\n",
      " 22  Appv_Month_sin      522582 non-null  float64\n",
      " 23  Appv_Month_cos      522582 non-null  float64\n",
      "dtypes: float64(15), int64(7), object(2)\n",
      "memory usage: 95.7+ MB\n"
     ]
    },
    {
     "data": {
      "application/javascript": [
       "\n",
       "            setTimeout(function() {\n",
       "                var nbb_cell_id = 4;\n",
       "                var nbb_unformatted_code = \"loans = pd.read_csv(\\\"sba_loans_cleaned2.csv\\\")\\nloans.info()\";\n",
       "                var nbb_formatted_code = \"loans = pd.read_csv(\\\"sba_loans_cleaned2.csv\\\")\\nloans.info()\";\n",
       "                var nbb_cells = Jupyter.notebook.get_cells();\n",
       "                for (var i = 0; i < nbb_cells.length; ++i) {\n",
       "                    if (nbb_cells[i].input_prompt_number == nbb_cell_id) {\n",
       "                        if (nbb_cells[i].get_text() == nbb_unformatted_code) {\n",
       "                             nbb_cells[i].set_text(nbb_formatted_code);\n",
       "                        }\n",
       "                        break;\n",
       "                    }\n",
       "                }\n",
       "            }, 500);\n",
       "            "
      ],
      "text/plain": [
       "<IPython.core.display.Javascript object>"
      ]
     },
     "metadata": {},
     "output_type": "display_data"
    }
   ],
   "source": [
    "loans = pd.read_csv(\"sba_loans_cleaned2.csv\")\n",
    "loans.info()"
   ]
  },
  {
   "cell_type": "code",
   "execution_count": 5,
   "metadata": {},
   "outputs": [
    {
     "data": {
      "text/html": [
       "<div>\n",
       "<style scoped>\n",
       "    .dataframe tbody tr th:only-of-type {\n",
       "        vertical-align: middle;\n",
       "    }\n",
       "\n",
       "    .dataframe tbody tr th {\n",
       "        vertical-align: top;\n",
       "    }\n",
       "\n",
       "    .dataframe thead th {\n",
       "        text-align: right;\n",
       "    }\n",
       "</style>\n",
       "<table border=\"1\" class=\"dataframe\">\n",
       "  <thead>\n",
       "    <tr style=\"text-align: right;\">\n",
       "      <th></th>\n",
       "      <th>State</th>\n",
       "      <th>BankState</th>\n",
       "      <th>ApprovalFY</th>\n",
       "      <th>NoEmp</th>\n",
       "      <th>NewExist</th>\n",
       "      <th>RevLineCr</th>\n",
       "      <th>LowDoc</th>\n",
       "      <th>DisbursementGross</th>\n",
       "      <th>MIS_Status</th>\n",
       "      <th>twoDigNAICS</th>\n",
       "      <th>is_franchise</th>\n",
       "      <th>bank_out_of_state</th>\n",
       "      <th>Term_years</th>\n",
       "      <th>job_category</th>\n",
       "      <th>retained_category</th>\n",
       "      <th>UrbanRural_cleaned</th>\n",
       "      <th>Disbr_year</th>\n",
       "      <th>Disbr_Month_sin</th>\n",
       "      <th>Disbr_Month_cos</th>\n",
       "      <th>sba_pre_approv</th>\n",
       "      <th>bank_size</th>\n",
       "      <th>percent_SBA</th>\n",
       "      <th>Appv_Month_sin</th>\n",
       "      <th>Appv_Month_cos</th>\n",
       "    </tr>\n",
       "  </thead>\n",
       "  <tbody>\n",
       "    <tr>\n",
       "      <th>0</th>\n",
       "      <td>NC</td>\n",
       "      <td>MN</td>\n",
       "      <td>2006</td>\n",
       "      <td>2</td>\n",
       "      <td>1</td>\n",
       "      <td>0.0</td>\n",
       "      <td>0.0</td>\n",
       "      <td>253400.0</td>\n",
       "      <td>0</td>\n",
       "      <td>44</td>\n",
       "      <td>1.0</td>\n",
       "      <td>0</td>\n",
       "      <td>13.500000</td>\n",
       "      <td>0.0</td>\n",
       "      <td>0.0</td>\n",
       "      <td>0.0</td>\n",
       "      <td>2006</td>\n",
       "      <td>0.866025</td>\n",
       "      <td>5.000000e-01</td>\n",
       "      <td>1.0</td>\n",
       "      <td>1.0</td>\n",
       "      <td>0.75</td>\n",
       "      <td>0.5</td>\n",
       "      <td>0.866025</td>\n",
       "    </tr>\n",
       "    <tr>\n",
       "      <th>1</th>\n",
       "      <td>AR</td>\n",
       "      <td>MS</td>\n",
       "      <td>2006</td>\n",
       "      <td>7</td>\n",
       "      <td>0</td>\n",
       "      <td>0.0</td>\n",
       "      <td>0.0</td>\n",
       "      <td>137300.0</td>\n",
       "      <td>0</td>\n",
       "      <td>72</td>\n",
       "      <td>0.0</td>\n",
       "      <td>0</td>\n",
       "      <td>10.500000</td>\n",
       "      <td>0.0</td>\n",
       "      <td>0.0</td>\n",
       "      <td>0.0</td>\n",
       "      <td>2006</td>\n",
       "      <td>1.000000</td>\n",
       "      <td>6.123234e-17</td>\n",
       "      <td>1.0</td>\n",
       "      <td>0.0</td>\n",
       "      <td>0.85</td>\n",
       "      <td>0.5</td>\n",
       "      <td>0.866025</td>\n",
       "    </tr>\n",
       "    <tr>\n",
       "      <th>2</th>\n",
       "      <td>CA</td>\n",
       "      <td>SD</td>\n",
       "      <td>2006</td>\n",
       "      <td>18</td>\n",
       "      <td>1</td>\n",
       "      <td>1.0</td>\n",
       "      <td>0.0</td>\n",
       "      <td>438541.0</td>\n",
       "      <td>0</td>\n",
       "      <td>61</td>\n",
       "      <td>0.0</td>\n",
       "      <td>0</td>\n",
       "      <td>6.916667</td>\n",
       "      <td>1.0</td>\n",
       "      <td>2.0</td>\n",
       "      <td>0.0</td>\n",
       "      <td>2006</td>\n",
       "      <td>0.500000</td>\n",
       "      <td>8.660254e-01</td>\n",
       "      <td>1.0</td>\n",
       "      <td>2.0</td>\n",
       "      <td>0.50</td>\n",
       "      <td>0.5</td>\n",
       "      <td>0.866025</td>\n",
       "    </tr>\n",
       "    <tr>\n",
       "      <th>3</th>\n",
       "      <td>FL</td>\n",
       "      <td>FL</td>\n",
       "      <td>2006</td>\n",
       "      <td>4</td>\n",
       "      <td>0</td>\n",
       "      <td>1.0</td>\n",
       "      <td>0.0</td>\n",
       "      <td>51440.0</td>\n",
       "      <td>0</td>\n",
       "      <td>23</td>\n",
       "      <td>0.0</td>\n",
       "      <td>1</td>\n",
       "      <td>7.000000</td>\n",
       "      <td>0.0</td>\n",
       "      <td>1.0</td>\n",
       "      <td>0.0</td>\n",
       "      <td>2006</td>\n",
       "      <td>0.500000</td>\n",
       "      <td>8.660254e-01</td>\n",
       "      <td>1.0</td>\n",
       "      <td>2.0</td>\n",
       "      <td>0.50</td>\n",
       "      <td>0.5</td>\n",
       "      <td>0.866025</td>\n",
       "    </tr>\n",
       "    <tr>\n",
       "      <th>4</th>\n",
       "      <td>LA</td>\n",
       "      <td>LA</td>\n",
       "      <td>2006</td>\n",
       "      <td>3</td>\n",
       "      <td>0</td>\n",
       "      <td>0.0</td>\n",
       "      <td>0.0</td>\n",
       "      <td>50000.0</td>\n",
       "      <td>0</td>\n",
       "      <td>53</td>\n",
       "      <td>0.0</td>\n",
       "      <td>1</td>\n",
       "      <td>5.000000</td>\n",
       "      <td>0.0</td>\n",
       "      <td>0.0</td>\n",
       "      <td>0.0</td>\n",
       "      <td>2006</td>\n",
       "      <td>0.866025</td>\n",
       "      <td>-5.000000e-01</td>\n",
       "      <td>1.0</td>\n",
       "      <td>0.0</td>\n",
       "      <td>0.85</td>\n",
       "      <td>0.5</td>\n",
       "      <td>0.866025</td>\n",
       "    </tr>\n",
       "  </tbody>\n",
       "</table>\n",
       "</div>"
      ],
      "text/plain": [
       "  State BankState  ApprovalFY  NoEmp  NewExist  RevLineCr  LowDoc  \\\n",
       "0    NC        MN        2006      2         1        0.0     0.0   \n",
       "1    AR        MS        2006      7         0        0.0     0.0   \n",
       "2    CA        SD        2006     18         1        1.0     0.0   \n",
       "3    FL        FL        2006      4         0        1.0     0.0   \n",
       "4    LA        LA        2006      3         0        0.0     0.0   \n",
       "\n",
       "   DisbursementGross  MIS_Status  twoDigNAICS  is_franchise  \\\n",
       "0           253400.0           0           44           1.0   \n",
       "1           137300.0           0           72           0.0   \n",
       "2           438541.0           0           61           0.0   \n",
       "3            51440.0           0           23           0.0   \n",
       "4            50000.0           0           53           0.0   \n",
       "\n",
       "   bank_out_of_state  Term_years  job_category  retained_category  \\\n",
       "0                  0   13.500000           0.0                0.0   \n",
       "1                  0   10.500000           0.0                0.0   \n",
       "2                  0    6.916667           1.0                2.0   \n",
       "3                  1    7.000000           0.0                1.0   \n",
       "4                  1    5.000000           0.0                0.0   \n",
       "\n",
       "   UrbanRural_cleaned  Disbr_year  Disbr_Month_sin  Disbr_Month_cos  \\\n",
       "0                 0.0        2006         0.866025     5.000000e-01   \n",
       "1                 0.0        2006         1.000000     6.123234e-17   \n",
       "2                 0.0        2006         0.500000     8.660254e-01   \n",
       "3                 0.0        2006         0.500000     8.660254e-01   \n",
       "4                 0.0        2006         0.866025    -5.000000e-01   \n",
       "\n",
       "   sba_pre_approv  bank_size  percent_SBA  Appv_Month_sin  Appv_Month_cos  \n",
       "0             1.0        1.0         0.75             0.5        0.866025  \n",
       "1             1.0        0.0         0.85             0.5        0.866025  \n",
       "2             1.0        2.0         0.50             0.5        0.866025  \n",
       "3             1.0        2.0         0.50             0.5        0.866025  \n",
       "4             1.0        0.0         0.85             0.5        0.866025  "
      ]
     },
     "execution_count": 5,
     "metadata": {},
     "output_type": "execute_result"
    },
    {
     "data": {
      "application/javascript": [
       "\n",
       "            setTimeout(function() {\n",
       "                var nbb_cell_id = 5;\n",
       "                var nbb_unformatted_code = \"loans.head()\";\n",
       "                var nbb_formatted_code = \"loans.head()\";\n",
       "                var nbb_cells = Jupyter.notebook.get_cells();\n",
       "                for (var i = 0; i < nbb_cells.length; ++i) {\n",
       "                    if (nbb_cells[i].input_prompt_number == nbb_cell_id) {\n",
       "                        if (nbb_cells[i].get_text() == nbb_unformatted_code) {\n",
       "                             nbb_cells[i].set_text(nbb_formatted_code);\n",
       "                        }\n",
       "                        break;\n",
       "                    }\n",
       "                }\n",
       "            }, 500);\n",
       "            "
      ],
      "text/plain": [
       "<IPython.core.display.Javascript object>"
      ]
     },
     "metadata": {},
     "output_type": "display_data"
    }
   ],
   "source": [
    "loans.head()"
   ]
  },
  {
   "cell_type": "code",
   "execution_count": 6,
   "metadata": {},
   "outputs": [
    {
     "data": {
      "application/javascript": [
       "\n",
       "            setTimeout(function() {\n",
       "                var nbb_cell_id = 6;\n",
       "                var nbb_unformatted_code = \"cat_cols = [\\n    \\\"State\\\",\\n    \\\"BankState\\\",\\n    \\\"twoDigNAICS\\\",\\n]\\n\\nordinal_cols = [\\n    \\\"job_category\\\",\\n    \\\"retained_category\\\",\\n    \\\"bank_size\\\",\\n]\\n\\nnum_cols = [\\n    \\\"ApprovalFY\\\",\\n    \\\"NoEmp\\\",\\n    \\\"DisbursementGross\\\",\\n    \\\"Term_years\\\",  # untapped potential here\\n    \\\"Disbr_year\\\",  # may want to do some grouping by or transformation\\n    \\\"Disbr_Month_sin\\\",\\n    \\\"Disbr_Month_cos\\\",\\n    \\\"Approval_Month_sin\\\",\\n    \\\"Approval_Month_cos\\\",\\n]\\n\\nbin_cols = [\\\"NewExist\\\", \\\"is_franchise\\\", \\\"bank_out_of_state\\\", \\\"sba_pre_approv\\\"]\\n\\n# impute_cols = [\\n#     \\\"RevLineCr\\\",\\n#     \\\"LowDoc\\\",\\n#     \\\"UrbanRural_cleaned\\\",\\n# ]\\n\\n# dropping na's until the imputer is working\\nloans = loans.dropna()\";\n",
       "                var nbb_formatted_code = \"cat_cols = [\\n    \\\"State\\\",\\n    \\\"BankState\\\",\\n    \\\"twoDigNAICS\\\",\\n]\\n\\nordinal_cols = [\\n    \\\"job_category\\\",\\n    \\\"retained_category\\\",\\n    \\\"bank_size\\\",\\n]\\n\\nnum_cols = [\\n    \\\"ApprovalFY\\\",\\n    \\\"NoEmp\\\",\\n    \\\"DisbursementGross\\\",\\n    \\\"Term_years\\\",  # untapped potential here\\n    \\\"Disbr_year\\\",  # may want to do some grouping by or transformation\\n    \\\"Disbr_Month_sin\\\",\\n    \\\"Disbr_Month_cos\\\",\\n    \\\"Approval_Month_sin\\\",\\n    \\\"Approval_Month_cos\\\",\\n]\\n\\nbin_cols = [\\\"NewExist\\\", \\\"is_franchise\\\", \\\"bank_out_of_state\\\", \\\"sba_pre_approv\\\"]\\n\\n# impute_cols = [\\n#     \\\"RevLineCr\\\",\\n#     \\\"LowDoc\\\",\\n#     \\\"UrbanRural_cleaned\\\",\\n# ]\\n\\n# dropping na's until the imputer is working\\nloans = loans.dropna()\";\n",
       "                var nbb_cells = Jupyter.notebook.get_cells();\n",
       "                for (var i = 0; i < nbb_cells.length; ++i) {\n",
       "                    if (nbb_cells[i].input_prompt_number == nbb_cell_id) {\n",
       "                        if (nbb_cells[i].get_text() == nbb_unformatted_code) {\n",
       "                             nbb_cells[i].set_text(nbb_formatted_code);\n",
       "                        }\n",
       "                        break;\n",
       "                    }\n",
       "                }\n",
       "            }, 500);\n",
       "            "
      ],
      "text/plain": [
       "<IPython.core.display.Javascript object>"
      ]
     },
     "metadata": {},
     "output_type": "display_data"
    }
   ],
   "source": [
    "cat_cols = [\n",
    "    \"State\",\n",
    "    \"BankState\",\n",
    "    \"twoDigNAICS\",\n",
    "]\n",
    "\n",
    "ordinal_cols = [\n",
    "    \"job_category\",\n",
    "    \"retained_category\",\n",
    "    \"bank_size\",\n",
    "]\n",
    "\n",
    "num_cols = [\n",
    "    \"ApprovalFY\",\n",
    "    \"NoEmp\",\n",
    "    \"DisbursementGross\",\n",
    "    \"Term_years\",  # untapped potential here\n",
    "    \"Disbr_year\",  # may want to do some grouping by or transformation\n",
    "    \"Disbr_Month_sin\",\n",
    "    \"Disbr_Month_cos\",\n",
    "    \"Approval_Month_sin\",\n",
    "    \"Approval_Month_cos\",\n",
    "]\n",
    "\n",
    "bin_cols = [\"NewExist\", \"is_franchise\", \"bank_out_of_state\", \"sba_pre_approv\"]\n",
    "\n",
    "# impute_cols = [\n",
    "#     \"RevLineCr\",\n",
    "#     \"LowDoc\",\n",
    "#     \"UrbanRural_cleaned\",\n",
    "# ]\n",
    "\n",
    "# dropping na's until the imputer is working\n",
    "loans = loans.dropna()"
   ]
  },
  {
   "cell_type": "code",
   "execution_count": null,
   "metadata": {},
   "outputs": [],
   "source": []
  },
  {
   "cell_type": "code",
   "execution_count": 7,
   "metadata": {},
   "outputs": [
    {
     "data": {
      "application/javascript": [
       "\n",
       "            setTimeout(function() {\n",
       "                var nbb_cell_id = 7;\n",
       "                var nbb_unformatted_code = \"X = loans.drop(columns=\\\"MIS_Status\\\")\\ny = loans[\\\"MIS_Status\\\"]\";\n",
       "                var nbb_formatted_code = \"X = loans.drop(columns=\\\"MIS_Status\\\")\\ny = loans[\\\"MIS_Status\\\"]\";\n",
       "                var nbb_cells = Jupyter.notebook.get_cells();\n",
       "                for (var i = 0; i < nbb_cells.length; ++i) {\n",
       "                    if (nbb_cells[i].input_prompt_number == nbb_cell_id) {\n",
       "                        if (nbb_cells[i].get_text() == nbb_unformatted_code) {\n",
       "                             nbb_cells[i].set_text(nbb_formatted_code);\n",
       "                        }\n",
       "                        break;\n",
       "                    }\n",
       "                }\n",
       "            }, 500);\n",
       "            "
      ],
      "text/plain": [
       "<IPython.core.display.Javascript object>"
      ]
     },
     "metadata": {},
     "output_type": "display_data"
    }
   ],
   "source": [
    "X = loans.drop(columns=\"MIS_Status\")\n",
    "y = loans[\"MIS_Status\"]"
   ]
  },
  {
   "cell_type": "code",
   "execution_count": 8,
   "metadata": {},
   "outputs": [
    {
     "name": "stdout",
     "output_type": "stream",
     "text": [
      "VIF results\n",
      "-------------------------------\n",
      "const                 814829.290183\n",
      "ApprovalFY                23.479557\n",
      "NoEmp                      1.031137\n",
      "NewExist                   1.116096\n",
      "RevLineCr                  1.637751\n",
      "LowDoc                     1.463996\n",
      "DisbursementGross          1.440323\n",
      "twoDigNAICS                1.062718\n",
      "is_franchise               1.077374\n",
      "bank_out_of_state          1.552891\n",
      "Term_years                 1.726284\n",
      "job_category               1.142698\n",
      "retained_category          1.301262\n",
      "UrbanRural_cleaned         1.085572\n",
      "Disbr_year                23.010926\n",
      "Disbr_Month_sin            2.115029\n",
      "Disbr_Month_cos            1.924876\n",
      "sba_pre_approv             1.136868\n",
      "bank_size                  1.762733\n",
      "percent_SBA                2.268133\n",
      "Appv_Month_sin             1.949872\n",
      "Appv_Month_cos             2.103376\n",
      "dtype: float64\n",
      "-------------------------------\n",
      "\n"
     ]
    },
    {
     "data": {
      "application/javascript": [
       "\n",
       "            setTimeout(function() {\n",
       "                var nbb_cell_id = 8;\n",
       "                var nbb_unformatted_code = \"print_vif(X.select_dtypes(include=\\\"number\\\"))\";\n",
       "                var nbb_formatted_code = \"print_vif(X.select_dtypes(include=\\\"number\\\"))\";\n",
       "                var nbb_cells = Jupyter.notebook.get_cells();\n",
       "                for (var i = 0; i < nbb_cells.length; ++i) {\n",
       "                    if (nbb_cells[i].input_prompt_number == nbb_cell_id) {\n",
       "                        if (nbb_cells[i].get_text() == nbb_unformatted_code) {\n",
       "                             nbb_cells[i].set_text(nbb_formatted_code);\n",
       "                        }\n",
       "                        break;\n",
       "                    }\n",
       "                }\n",
       "            }, 500);\n",
       "            "
      ],
      "text/plain": [
       "<IPython.core.display.Javascript object>"
      ]
     },
     "metadata": {},
     "output_type": "display_data"
    }
   ],
   "source": [
    "print_vif(X.select_dtypes(include=\"number\"))"
   ]
  },
  {
   "cell_type": "code",
   "execution_count": 9,
   "metadata": {},
   "outputs": [
    {
     "data": {
      "application/javascript": [
       "\n",
       "            setTimeout(function() {\n",
       "                var nbb_cell_id = 9;\n",
       "                var nbb_unformatted_code = \"# remove ApprovalFY.sba_pre_approv contains some of the same info, Disbr_year will also cover the loss\\nX = X.drop(columns=\\\"ApprovalFY\\\")\";\n",
       "                var nbb_formatted_code = \"# remove ApprovalFY.sba_pre_approv contains some of the same info, Disbr_year will also cover the loss\\nX = X.drop(columns=\\\"ApprovalFY\\\")\";\n",
       "                var nbb_cells = Jupyter.notebook.get_cells();\n",
       "                for (var i = 0; i < nbb_cells.length; ++i) {\n",
       "                    if (nbb_cells[i].input_prompt_number == nbb_cell_id) {\n",
       "                        if (nbb_cells[i].get_text() == nbb_unformatted_code) {\n",
       "                             nbb_cells[i].set_text(nbb_formatted_code);\n",
       "                        }\n",
       "                        break;\n",
       "                    }\n",
       "                }\n",
       "            }, 500);\n",
       "            "
      ],
      "text/plain": [
       "<IPython.core.display.Javascript object>"
      ]
     },
     "metadata": {},
     "output_type": "display_data"
    }
   ],
   "source": [
    "# remove ApprovalFY.sba_pre_approv contains some of the same info, Disbr_year will also cover the loss\n",
    "X = X.drop(columns=\"ApprovalFY\")"
   ]
  },
  {
   "cell_type": "code",
   "execution_count": 10,
   "metadata": {},
   "outputs": [
    {
     "data": {
      "application/javascript": [
       "\n",
       "            setTimeout(function() {\n",
       "                var nbb_cell_id = 10;\n",
       "                var nbb_unformatted_code = \"X_train, X_test, y_train, y_test = train_test_split(X, y, test_size=0.25)\";\n",
       "                var nbb_formatted_code = \"X_train, X_test, y_train, y_test = train_test_split(X, y, test_size=0.25)\";\n",
       "                var nbb_cells = Jupyter.notebook.get_cells();\n",
       "                for (var i = 0; i < nbb_cells.length; ++i) {\n",
       "                    if (nbb_cells[i].input_prompt_number == nbb_cell_id) {\n",
       "                        if (nbb_cells[i].get_text() == nbb_unformatted_code) {\n",
       "                             nbb_cells[i].set_text(nbb_formatted_code);\n",
       "                        }\n",
       "                        break;\n",
       "                    }\n",
       "                }\n",
       "            }, 500);\n",
       "            "
      ],
      "text/plain": [
       "<IPython.core.display.Javascript object>"
      ]
     },
     "metadata": {},
     "output_type": "display_data"
    }
   ],
   "source": [
    "X_train, X_test, y_train, y_test = train_test_split(X, y, test_size=0.25)"
   ]
  },
  {
   "cell_type": "code",
   "execution_count": 11,
   "metadata": {},
   "outputs": [
    {
     "data": {
      "application/javascript": [
       "\n",
       "            setTimeout(function() {\n",
       "                var nbb_cell_id = 11;\n",
       "                var nbb_unformatted_code = \"preprocessing = ColumnTransformer(\\n    [\\n        (\\\"leaveOneOut\\\", LeaveOneOutEncoder(), cat_cols),\\n        # (\\\"knnImptute\\\", KNNImputer(n_neighbors=2), impute_cols),\\n        # (\\\"simpleImptute\\\", SimpleImputer(), impute_cols),\\n    ],\\n    remainder=\\\"passthrough\\\",\\n)\";\n",
       "                var nbb_formatted_code = \"preprocessing = ColumnTransformer(\\n    [\\n        (\\\"leaveOneOut\\\", LeaveOneOutEncoder(), cat_cols),\\n        # (\\\"knnImptute\\\", KNNImputer(n_neighbors=2), impute_cols),\\n        # (\\\"simpleImptute\\\", SimpleImputer(), impute_cols),\\n    ],\\n    remainder=\\\"passthrough\\\",\\n)\";\n",
       "                var nbb_cells = Jupyter.notebook.get_cells();\n",
       "                for (var i = 0; i < nbb_cells.length; ++i) {\n",
       "                    if (nbb_cells[i].input_prompt_number == nbb_cell_id) {\n",
       "                        if (nbb_cells[i].get_text() == nbb_unformatted_code) {\n",
       "                             nbb_cells[i].set_text(nbb_formatted_code);\n",
       "                        }\n",
       "                        break;\n",
       "                    }\n",
       "                }\n",
       "            }, 500);\n",
       "            "
      ],
      "text/plain": [
       "<IPython.core.display.Javascript object>"
      ]
     },
     "metadata": {},
     "output_type": "display_data"
    }
   ],
   "source": [
    "preprocessing = ColumnTransformer(\n",
    "    [\n",
    "        (\"leaveOneOut\", LeaveOneOutEncoder(), cat_cols),\n",
    "        # (\"knnImptute\", KNNImputer(n_neighbors=2), impute_cols),\n",
    "        # (\"simpleImptute\", SimpleImputer(), impute_cols),\n",
    "    ],\n",
    "    remainder=\"passthrough\",\n",
    ")"
   ]
  },
  {
   "cell_type": "code",
   "execution_count": 12,
   "metadata": {},
   "outputs": [
    {
     "data": {
      "application/javascript": [
       "\n",
       "            setTimeout(function() {\n",
       "                var nbb_cell_id = 12;\n",
       "                var nbb_unformatted_code = \"n_trees = 50\\nlearning_rate = 2 / n_trees\\n\\npipeline = Pipeline(\\n    [\\n        (\\\"preprocessing\\\", preprocessing),\\n        (\\\"xgbClass\\\", XGBClassifier(n_estimators=n_trees, learning_rate=learning_rate)),\\n    ]\\n)\";\n",
       "                var nbb_formatted_code = \"n_trees = 50\\nlearning_rate = 2 / n_trees\\n\\npipeline = Pipeline(\\n    [\\n        (\\\"preprocessing\\\", preprocessing),\\n        (\\\"xgbClass\\\", XGBClassifier(n_estimators=n_trees, learning_rate=learning_rate)),\\n    ]\\n)\";\n",
       "                var nbb_cells = Jupyter.notebook.get_cells();\n",
       "                for (var i = 0; i < nbb_cells.length; ++i) {\n",
       "                    if (nbb_cells[i].input_prompt_number == nbb_cell_id) {\n",
       "                        if (nbb_cells[i].get_text() == nbb_unformatted_code) {\n",
       "                             nbb_cells[i].set_text(nbb_formatted_code);\n",
       "                        }\n",
       "                        break;\n",
       "                    }\n",
       "                }\n",
       "            }, 500);\n",
       "            "
      ],
      "text/plain": [
       "<IPython.core.display.Javascript object>"
      ]
     },
     "metadata": {},
     "output_type": "display_data"
    }
   ],
   "source": [
    "n_trees = 50\n",
    "learning_rate = 2 / n_trees\n",
    "\n",
    "pipeline = Pipeline(\n",
    "    [\n",
    "        (\"preprocessing\", preprocessing),\n",
    "        (\"xgbClass\", XGBClassifier(n_estimators=n_trees, learning_rate=learning_rate)),\n",
    "    ]\n",
    ")"
   ]
  },
  {
   "cell_type": "code",
   "execution_count": 13,
   "metadata": {},
   "outputs": [
    {
     "data": {
      "application/javascript": [
       "\n",
       "            setTimeout(function() {\n",
       "                var nbb_cell_id = 13;\n",
       "                var nbb_unformatted_code = \"grid = {\\n    \\\"xgbClass__subsample\\\": [0.5, 0.75, 1.0],\\n    #     \\\"gbr__max_features\\\": [0.5, 0.75, 1.0], # alternative\\n    \\\"xgbClass__colsample_bytree\\\": [0.6, 0.8, 1.0],\\n    \\\"xgbClass__max_depth\\\": [3, 4, 6],\\n}\";\n",
       "                var nbb_formatted_code = \"grid = {\\n    \\\"xgbClass__subsample\\\": [0.5, 0.75, 1.0],\\n    #     \\\"gbr__max_features\\\": [0.5, 0.75, 1.0], # alternative\\n    \\\"xgbClass__colsample_bytree\\\": [0.6, 0.8, 1.0],\\n    \\\"xgbClass__max_depth\\\": [3, 4, 6],\\n}\";\n",
       "                var nbb_cells = Jupyter.notebook.get_cells();\n",
       "                for (var i = 0; i < nbb_cells.length; ++i) {\n",
       "                    if (nbb_cells[i].input_prompt_number == nbb_cell_id) {\n",
       "                        if (nbb_cells[i].get_text() == nbb_unformatted_code) {\n",
       "                             nbb_cells[i].set_text(nbb_formatted_code);\n",
       "                        }\n",
       "                        break;\n",
       "                    }\n",
       "                }\n",
       "            }, 500);\n",
       "            "
      ],
      "text/plain": [
       "<IPython.core.display.Javascript object>"
      ]
     },
     "metadata": {},
     "output_type": "display_data"
    }
   ],
   "source": [
    "grid = {\n",
    "    \"xgbClass__subsample\": [0.5, 0.75, 1.0],\n",
    "    #     \"gbr__max_features\": [0.5, 0.75, 1.0], # alternative\n",
    "    \"xgbClass__colsample_bytree\": [0.6, 0.8, 1.0],\n",
    "    \"xgbClass__max_depth\": [3, 4, 6],\n",
    "}\n",
    "\n"
   ]
  },
  {
   "cell_type": "code",
   "execution_count": 14,
   "metadata": {},
   "outputs": [
    {
     "name": "stdout",
     "output_type": "stream",
     "text": [
      "Fitting 3 folds for each of 27 candidates, totalling 81 fits\n"
     ]
    },
    {
     "name": "stderr",
     "output_type": "stream",
     "text": [
      "[Parallel(n_jobs=-1)]: Using backend LokyBackend with 4 concurrent workers.\n",
      "[Parallel(n_jobs=-1)]: Done  42 tasks      | elapsed:  2.6min\n",
      "[Parallel(n_jobs=-1)]: Done  81 out of  81 | elapsed:  6.4min finished\n"
     ]
    },
    {
     "data": {
      "text/plain": [
       "GridSearchCV(cv=3, error_score=nan,\n",
       "             estimator=Pipeline(memory=None,\n",
       "                                steps=[('preprocessing',\n",
       "                                        ColumnTransformer(n_jobs=None,\n",
       "                                                          remainder='passthrough',\n",
       "                                                          sparse_threshold=0.3,\n",
       "                                                          transformer_weights=None,\n",
       "                                                          transformers=[('leaveOneOut',\n",
       "                                                                         LeaveOneOutEncoder(cols=None,\n",
       "                                                                                            drop_invariant=False,\n",
       "                                                                                            handle_missing='value',\n",
       "                                                                                            handle_unknown='value',\n",
       "                                                                                            random_state=None,\n",
       "                                                                                            return_df=True,\n",
       "                                                                                            sig...\n",
       "                                                      reg_lambda=None,\n",
       "                                                      scale_pos_weight=None,\n",
       "                                                      subsample=None,\n",
       "                                                      tree_method=None,\n",
       "                                                      validate_parameters=None,\n",
       "                                                      verbosity=None))],\n",
       "                                verbose=False),\n",
       "             iid='deprecated', n_jobs=-1,\n",
       "             param_grid={'xgbClass__colsample_bytree': [0.6, 0.8, 1.0],\n",
       "                         'xgbClass__max_depth': [3, 4, 6],\n",
       "                         'xgbClass__subsample': [0.5, 0.75, 1.0]},\n",
       "             pre_dispatch='2*n_jobs', refit=True, return_train_score=False,\n",
       "             scoring=None, verbose=1)"
      ]
     },
     "execution_count": 14,
     "metadata": {},
     "output_type": "execute_result"
    },
    {
     "data": {
      "application/javascript": [
       "\n",
       "            setTimeout(function() {\n",
       "                var nbb_cell_id = 14;\n",
       "                var nbb_unformatted_code = \"# 2.6min runtime\\npipeline_cv = GridSearchCV(pipeline, grid, verbose=1, n_jobs=-1, cv=3)\\npipeline_cv.fit(X_train, y_train)\";\n",
       "                var nbb_formatted_code = \"# 2.6min runtime\\npipeline_cv = GridSearchCV(pipeline, grid, verbose=1, n_jobs=-1, cv=3)\\npipeline_cv.fit(X_train, y_train)\";\n",
       "                var nbb_cells = Jupyter.notebook.get_cells();\n",
       "                for (var i = 0; i < nbb_cells.length; ++i) {\n",
       "                    if (nbb_cells[i].input_prompt_number == nbb_cell_id) {\n",
       "                        if (nbb_cells[i].get_text() == nbb_unformatted_code) {\n",
       "                             nbb_cells[i].set_text(nbb_formatted_code);\n",
       "                        }\n",
       "                        break;\n",
       "                    }\n",
       "                }\n",
       "            }, 500);\n",
       "            "
      ],
      "text/plain": [
       "<IPython.core.display.Javascript object>"
      ]
     },
     "metadata": {},
     "output_type": "display_data"
    }
   ],
   "source": [
    "# 2.6min runtime\n",
    "pipeline_cv = GridSearchCV(pipeline, grid, verbose=1, n_jobs=-1, cv=3)\n",
    "pipeline_cv.fit(X_train, y_train)"
   ]
  },
  {
   "cell_type": "code",
   "execution_count": 15,
   "metadata": {},
   "outputs": [
    {
     "data": {
      "text/plain": [
       "{'xgbClass__colsample_bytree': 1.0,\n",
       " 'xgbClass__max_depth': 4,\n",
       " 'xgbClass__subsample': 0.75}"
      ]
     },
     "execution_count": 15,
     "metadata": {},
     "output_type": "execute_result"
    },
    {
     "data": {
      "application/javascript": [
       "\n",
       "            setTimeout(function() {\n",
       "                var nbb_cell_id = 15;\n",
       "                var nbb_unformatted_code = \"pipeline_cv.best_params_\";\n",
       "                var nbb_formatted_code = \"pipeline_cv.best_params_\";\n",
       "                var nbb_cells = Jupyter.notebook.get_cells();\n",
       "                for (var i = 0; i < nbb_cells.length; ++i) {\n",
       "                    if (nbb_cells[i].input_prompt_number == nbb_cell_id) {\n",
       "                        if (nbb_cells[i].get_text() == nbb_unformatted_code) {\n",
       "                             nbb_cells[i].set_text(nbb_formatted_code);\n",
       "                        }\n",
       "                        break;\n",
       "                    }\n",
       "                }\n",
       "            }, 500);\n",
       "            "
      ],
      "text/plain": [
       "<IPython.core.display.Javascript object>"
      ]
     },
     "metadata": {},
     "output_type": "display_data"
    }
   ],
   "source": [
    "pipeline_cv.best_params_"
   ]
  },
  {
   "cell_type": "code",
   "execution_count": 16,
   "metadata": {},
   "outputs": [
    {
     "data": {
      "text/plain": [
       "{'mean_fit_time': array([11.14649773, 10.12689479,  8.61228283, 13.15079935, 12.27082173,\n",
       "        10.75022666, 20.2248648 , 18.46457728, 15.88099607, 15.26505852,\n",
       "        13.71977409, 10.92937779, 17.14293639, 16.66236043, 14.34861644,\n",
       "        27.07674249, 26.23725867, 21.69898256, 17.12930338, 16.26694417,\n",
       "        14.06899285, 22.34263126, 21.06431985, 18.7009627 , 32.0627687 ,\n",
       "        30.05552069, 24.46867299]),\n",
       " 'std_fit_time': array([0.13867339, 0.09766044, 0.20397328, 0.05839843, 0.11642526,\n",
       "        0.28431516, 0.13470499, 0.3694924 , 1.11315705, 0.31843679,\n",
       "        0.16188948, 0.33042917, 0.19641443, 0.24176059, 0.13728599,\n",
       "        0.41060316, 0.26062253, 0.56047987, 0.11176566, 0.14426073,\n",
       "        0.09690255, 0.39407821, 0.22273741, 0.29697853, 0.2512847 ,\n",
       "        0.17549418, 2.24044274]),\n",
       " 'mean_score_time': array([0.37133924, 0.38496995, 0.37399912, 0.46143206, 0.44481007,\n",
       "        0.46375855, 0.62865043, 0.64494061, 0.68053055, 0.44181784,\n",
       "        0.42898655, 0.4086686 , 0.47998198, 0.49959302, 0.56755145,\n",
       "        0.76467037, 0.80550877, 0.69845931, 0.41497898, 0.40469694,\n",
       "        0.40430967, 0.49029938, 0.45330954, 0.48534203, 0.66813707,\n",
       "        0.62363982, 0.56427026]),\n",
       " 'std_score_time': array([0.01511027, 0.02468658, 0.01570627, 0.00384806, 0.01694479,\n",
       "        0.02115699, 0.01839567, 0.02718367, 0.04257811, 0.04132206,\n",
       "        0.02123428, 0.02408629, 0.04235945, 0.02955769, 0.07411774,\n",
       "        0.04712947, 0.11900557, 0.00949992, 0.02548035, 0.02027997,\n",
       "        0.00899997, 0.0160939 , 0.03816726, 0.02130652, 0.03058183,\n",
       "        0.04177954, 0.05264625]),\n",
       " 'param_xgbClass__colsample_bytree': masked_array(data=[0.6, 0.6, 0.6, 0.6, 0.6, 0.6, 0.6, 0.6, 0.6, 0.8, 0.8,\n",
       "                    0.8, 0.8, 0.8, 0.8, 0.8, 0.8, 0.8, 1.0, 1.0, 1.0, 1.0,\n",
       "                    1.0, 1.0, 1.0, 1.0, 1.0],\n",
       "              mask=[False, False, False, False, False, False, False, False,\n",
       "                    False, False, False, False, False, False, False, False,\n",
       "                    False, False, False, False, False, False, False, False,\n",
       "                    False, False, False],\n",
       "        fill_value='?',\n",
       "             dtype=object),\n",
       " 'param_xgbClass__max_depth': masked_array(data=[3, 3, 3, 4, 4, 4, 6, 6, 6, 3, 3, 3, 4, 4, 4, 6, 6, 6,\n",
       "                    3, 3, 3, 4, 4, 4, 6, 6, 6],\n",
       "              mask=[False, False, False, False, False, False, False, False,\n",
       "                    False, False, False, False, False, False, False, False,\n",
       "                    False, False, False, False, False, False, False, False,\n",
       "                    False, False, False],\n",
       "        fill_value='?',\n",
       "             dtype=object),\n",
       " 'param_xgbClass__subsample': masked_array(data=[0.5, 0.75, 1.0, 0.5, 0.75, 1.0, 0.5, 0.75, 1.0, 0.5,\n",
       "                    0.75, 1.0, 0.5, 0.75, 1.0, 0.5, 0.75, 1.0, 0.5, 0.75,\n",
       "                    1.0, 0.5, 0.75, 1.0, 0.5, 0.75, 1.0],\n",
       "              mask=[False, False, False, False, False, False, False, False,\n",
       "                    False, False, False, False, False, False, False, False,\n",
       "                    False, False, False, False, False, False, False, False,\n",
       "                    False, False, False],\n",
       "        fill_value='?',\n",
       "             dtype=object),\n",
       " 'params': [{'xgbClass__colsample_bytree': 0.6,\n",
       "   'xgbClass__max_depth': 3,\n",
       "   'xgbClass__subsample': 0.5},\n",
       "  {'xgbClass__colsample_bytree': 0.6,\n",
       "   'xgbClass__max_depth': 3,\n",
       "   'xgbClass__subsample': 0.75},\n",
       "  {'xgbClass__colsample_bytree': 0.6,\n",
       "   'xgbClass__max_depth': 3,\n",
       "   'xgbClass__subsample': 1.0},\n",
       "  {'xgbClass__colsample_bytree': 0.6,\n",
       "   'xgbClass__max_depth': 4,\n",
       "   'xgbClass__subsample': 0.5},\n",
       "  {'xgbClass__colsample_bytree': 0.6,\n",
       "   'xgbClass__max_depth': 4,\n",
       "   'xgbClass__subsample': 0.75},\n",
       "  {'xgbClass__colsample_bytree': 0.6,\n",
       "   'xgbClass__max_depth': 4,\n",
       "   'xgbClass__subsample': 1.0},\n",
       "  {'xgbClass__colsample_bytree': 0.6,\n",
       "   'xgbClass__max_depth': 6,\n",
       "   'xgbClass__subsample': 0.5},\n",
       "  {'xgbClass__colsample_bytree': 0.6,\n",
       "   'xgbClass__max_depth': 6,\n",
       "   'xgbClass__subsample': 0.75},\n",
       "  {'xgbClass__colsample_bytree': 0.6,\n",
       "   'xgbClass__max_depth': 6,\n",
       "   'xgbClass__subsample': 1.0},\n",
       "  {'xgbClass__colsample_bytree': 0.8,\n",
       "   'xgbClass__max_depth': 3,\n",
       "   'xgbClass__subsample': 0.5},\n",
       "  {'xgbClass__colsample_bytree': 0.8,\n",
       "   'xgbClass__max_depth': 3,\n",
       "   'xgbClass__subsample': 0.75},\n",
       "  {'xgbClass__colsample_bytree': 0.8,\n",
       "   'xgbClass__max_depth': 3,\n",
       "   'xgbClass__subsample': 1.0},\n",
       "  {'xgbClass__colsample_bytree': 0.8,\n",
       "   'xgbClass__max_depth': 4,\n",
       "   'xgbClass__subsample': 0.5},\n",
       "  {'xgbClass__colsample_bytree': 0.8,\n",
       "   'xgbClass__max_depth': 4,\n",
       "   'xgbClass__subsample': 0.75},\n",
       "  {'xgbClass__colsample_bytree': 0.8,\n",
       "   'xgbClass__max_depth': 4,\n",
       "   'xgbClass__subsample': 1.0},\n",
       "  {'xgbClass__colsample_bytree': 0.8,\n",
       "   'xgbClass__max_depth': 6,\n",
       "   'xgbClass__subsample': 0.5},\n",
       "  {'xgbClass__colsample_bytree': 0.8,\n",
       "   'xgbClass__max_depth': 6,\n",
       "   'xgbClass__subsample': 0.75},\n",
       "  {'xgbClass__colsample_bytree': 0.8,\n",
       "   'xgbClass__max_depth': 6,\n",
       "   'xgbClass__subsample': 1.0},\n",
       "  {'xgbClass__colsample_bytree': 1.0,\n",
       "   'xgbClass__max_depth': 3,\n",
       "   'xgbClass__subsample': 0.5},\n",
       "  {'xgbClass__colsample_bytree': 1.0,\n",
       "   'xgbClass__max_depth': 3,\n",
       "   'xgbClass__subsample': 0.75},\n",
       "  {'xgbClass__colsample_bytree': 1.0,\n",
       "   'xgbClass__max_depth': 3,\n",
       "   'xgbClass__subsample': 1.0},\n",
       "  {'xgbClass__colsample_bytree': 1.0,\n",
       "   'xgbClass__max_depth': 4,\n",
       "   'xgbClass__subsample': 0.5},\n",
       "  {'xgbClass__colsample_bytree': 1.0,\n",
       "   'xgbClass__max_depth': 4,\n",
       "   'xgbClass__subsample': 0.75},\n",
       "  {'xgbClass__colsample_bytree': 1.0,\n",
       "   'xgbClass__max_depth': 4,\n",
       "   'xgbClass__subsample': 1.0},\n",
       "  {'xgbClass__colsample_bytree': 1.0,\n",
       "   'xgbClass__max_depth': 6,\n",
       "   'xgbClass__subsample': 0.5},\n",
       "  {'xgbClass__colsample_bytree': 1.0,\n",
       "   'xgbClass__max_depth': 6,\n",
       "   'xgbClass__subsample': 0.75},\n",
       "  {'xgbClass__colsample_bytree': 1.0,\n",
       "   'xgbClass__max_depth': 6,\n",
       "   'xgbClass__subsample': 1.0}],\n",
       " 'split0_test_score': array([0.88118928, 0.8764528 , 0.88329959, 0.88612898, 0.88609772,\n",
       "        0.89095926, 0.87821139, 0.88168169, 0.87814886, 0.89016203,\n",
       "        0.89041214, 0.88953675, 0.89392933, 0.89225671, 0.89328842,\n",
       "        0.88541773, 0.89123281, 0.87321698, 0.88593358, 0.88601174,\n",
       "        0.88605864, 0.89441392, 0.89832191, 0.89594585, 0.85709261,\n",
       "        0.86468193, 0.85595148]),\n",
       " 'split1_test_score': array([0.87993091, 0.88025918, 0.87979022, 0.88508945, 0.88362005,\n",
       "        0.88879423, 0.87575717, 0.87594476, 0.88229915, 0.89099052,\n",
       "        0.88866136, 0.88782505, 0.89500012, 0.89162361, 0.89547689,\n",
       "        0.88702   , 0.87599947, 0.86900417, 0.89037306, 0.88469865,\n",
       "        0.88681679, 0.89847823, 0.89849386, 0.9002759 , 0.87257607,\n",
       "        0.8675035 , 0.85686595]),\n",
       " 'split2_test_score': array([0.88220444, 0.88146191, 0.8805787 , 0.8828688 , 0.88583108,\n",
       "        0.88931703, 0.86343812, 0.87388035, 0.87251254, 0.8913961 ,\n",
       "        0.8886683 , 0.88395523, 0.89484298, 0.89546826, 0.8939285 ,\n",
       "        0.87388035, 0.8776086 , 0.87449782, 0.88690188, 0.88430695,\n",
       "        0.88608901, 0.89476482, 0.89413172, 0.89369402, 0.86001469,\n",
       "        0.85652092, 0.85831861]),\n",
       " 'mean_test_score': array([0.88110821, 0.8793913 , 0.88122284, 0.88469574, 0.88518295,\n",
       "        0.88969017, 0.87246889, 0.87716893, 0.87765352, 0.89084955,\n",
       "        0.88924727, 0.88710567, 0.89459081, 0.89311619, 0.89423127,\n",
       "        0.88210603, 0.88161363, 0.87223965, 0.88773617, 0.88500578,\n",
       "        0.88632148, 0.89588565, 0.8969825 , 0.89663859, 0.86322779,\n",
       "        0.86290212, 0.85704535]),\n",
       " 'std_test_score': array([0.00092993, 0.00213506, 0.00150335, 0.00135977, 0.00111048,\n",
       "        0.00092241, 0.00646385, 0.00330042, 0.00401069, 0.00051358,\n",
       "        0.00082369, 0.00233473, 0.00047212, 0.00168312, 0.00091873,\n",
       "        0.0058531 , 0.00683344, 0.00234683, 0.001906  , 0.00072907,\n",
       "        0.00035046, 0.00183882, 0.00201703, 0.00273133, 0.00671701,\n",
       "        0.0046569 , 0.00097467]),\n",
       " 'rank_test_score': array([19, 20, 18, 15, 13,  8, 23, 22, 21,  7,  9, 11,  4,  6,  5, 16, 17,\n",
       "        24, 10, 14, 12,  3,  1,  2, 25, 26, 27])}"
      ]
     },
     "execution_count": 16,
     "metadata": {},
     "output_type": "execute_result"
    },
    {
     "data": {
      "application/javascript": [
       "\n",
       "            setTimeout(function() {\n",
       "                var nbb_cell_id = 16;\n",
       "                var nbb_unformatted_code = \"pipeline_cv.cv_results_\";\n",
       "                var nbb_formatted_code = \"pipeline_cv.cv_results_\";\n",
       "                var nbb_cells = Jupyter.notebook.get_cells();\n",
       "                for (var i = 0; i < nbb_cells.length; ++i) {\n",
       "                    if (nbb_cells[i].input_prompt_number == nbb_cell_id) {\n",
       "                        if (nbb_cells[i].get_text() == nbb_unformatted_code) {\n",
       "                             nbb_cells[i].set_text(nbb_formatted_code);\n",
       "                        }\n",
       "                        break;\n",
       "                    }\n",
       "                }\n",
       "            }, 500);\n",
       "            "
      ],
      "text/plain": [
       "<IPython.core.display.Javascript object>"
      ]
     },
     "metadata": {},
     "output_type": "display_data"
    }
   ],
   "source": [
    "pipeline_cv.cv_results_"
   ]
  },
  {
   "cell_type": "code",
   "execution_count": 17,
   "metadata": {},
   "outputs": [
    {
     "data": {
      "text/plain": [
       "0.8986342841064227"
      ]
     },
     "execution_count": 17,
     "metadata": {},
     "output_type": "execute_result"
    },
    {
     "data": {
      "application/javascript": [
       "\n",
       "            setTimeout(function() {\n",
       "                var nbb_cell_id = 17;\n",
       "                var nbb_unformatted_code = \"pipeline_cv.score(X_train, y_train)\";\n",
       "                var nbb_formatted_code = \"pipeline_cv.score(X_train, y_train)\";\n",
       "                var nbb_cells = Jupyter.notebook.get_cells();\n",
       "                for (var i = 0; i < nbb_cells.length; ++i) {\n",
       "                    if (nbb_cells[i].input_prompt_number == nbb_cell_id) {\n",
       "                        if (nbb_cells[i].get_text() == nbb_unformatted_code) {\n",
       "                             nbb_cells[i].set_text(nbb_formatted_code);\n",
       "                        }\n",
       "                        break;\n",
       "                    }\n",
       "                }\n",
       "            }, 500);\n",
       "            "
      ],
      "text/plain": [
       "<IPython.core.display.Javascript object>"
      ]
     },
     "metadata": {},
     "output_type": "display_data"
    }
   ],
   "source": [
    "pipeline_cv.score(X_train, y_train)"
   ]
  },
  {
   "cell_type": "code",
   "execution_count": 18,
   "metadata": {},
   "outputs": [
    {
     "data": {
      "text/plain": [
       "0.8979701898501676"
      ]
     },
     "execution_count": 18,
     "metadata": {},
     "output_type": "execute_result"
    },
    {
     "data": {
      "application/javascript": [
       "\n",
       "            setTimeout(function() {\n",
       "                var nbb_cell_id = 18;\n",
       "                var nbb_unformatted_code = \"pipeline_cv.score(X_test, y_test)\";\n",
       "                var nbb_formatted_code = \"pipeline_cv.score(X_test, y_test)\";\n",
       "                var nbb_cells = Jupyter.notebook.get_cells();\n",
       "                for (var i = 0; i < nbb_cells.length; ++i) {\n",
       "                    if (nbb_cells[i].input_prompt_number == nbb_cell_id) {\n",
       "                        if (nbb_cells[i].get_text() == nbb_unformatted_code) {\n",
       "                             nbb_cells[i].set_text(nbb_formatted_code);\n",
       "                        }\n",
       "                        break;\n",
       "                    }\n",
       "                }\n",
       "            }, 500);\n",
       "            "
      ],
      "text/plain": [
       "<IPython.core.display.Javascript object>"
      ]
     },
     "metadata": {},
     "output_type": "display_data"
    }
   ],
   "source": [
    "pipeline_cv.score(X_test, y_test)"
   ]
  },
  {
   "cell_type": "code",
   "execution_count": 19,
   "metadata": {},
   "outputs": [
    {
     "name": "stdout",
     "output_type": "stream",
     "text": [
      "              precision    recall  f1-score   support\n",
      "\n",
      "           0       0.91      0.95      0.93     96078\n",
      "           1       0.84      0.73      0.78     31865\n",
      "\n",
      "    accuracy                           0.90    127943\n",
      "   macro avg       0.88      0.84      0.86    127943\n",
      "weighted avg       0.90      0.90      0.90    127943\n",
      "\n"
     ]
    },
    {
     "data": {
      "application/javascript": [
       "\n",
       "            setTimeout(function() {\n",
       "                var nbb_cell_id = 19;\n",
       "                var nbb_unformatted_code = \"y_pred = pipeline_cv.predict(X_test)\\nprint(classification_report(y_test, y_pred))\";\n",
       "                var nbb_formatted_code = \"y_pred = pipeline_cv.predict(X_test)\\nprint(classification_report(y_test, y_pred))\";\n",
       "                var nbb_cells = Jupyter.notebook.get_cells();\n",
       "                for (var i = 0; i < nbb_cells.length; ++i) {\n",
       "                    if (nbb_cells[i].input_prompt_number == nbb_cell_id) {\n",
       "                        if (nbb_cells[i].get_text() == nbb_unformatted_code) {\n",
       "                             nbb_cells[i].set_text(nbb_formatted_code);\n",
       "                        }\n",
       "                        break;\n",
       "                    }\n",
       "                }\n",
       "            }, 500);\n",
       "            "
      ],
      "text/plain": [
       "<IPython.core.display.Javascript object>"
      ]
     },
     "metadata": {},
     "output_type": "display_data"
    }
   ],
   "source": [
    "y_pred = pipeline_cv.predict(X_test)\n",
    "print(classification_report(y_test, y_pred))"
   ]
  },
  {
   "cell_type": "code",
   "execution_count": 20,
   "metadata": {},
   "outputs": [
    {
     "data": {
      "text/plain": [
       "array([[0.95481796, 0.04518204],\n",
       "       [0.2734348 , 0.7265652 ]])"
      ]
     },
     "execution_count": 20,
     "metadata": {},
     "output_type": "execute_result"
    },
    {
     "data": {
      "application/javascript": [
       "\n",
       "            setTimeout(function() {\n",
       "                var nbb_cell_id = 20;\n",
       "                var nbb_unformatted_code = \"confusion_matrix(y_test, y_pred, normalize=\\\"true\\\")\";\n",
       "                var nbb_formatted_code = \"confusion_matrix(y_test, y_pred, normalize=\\\"true\\\")\";\n",
       "                var nbb_cells = Jupyter.notebook.get_cells();\n",
       "                for (var i = 0; i < nbb_cells.length; ++i) {\n",
       "                    if (nbb_cells[i].input_prompt_number == nbb_cell_id) {\n",
       "                        if (nbb_cells[i].get_text() == nbb_unformatted_code) {\n",
       "                             nbb_cells[i].set_text(nbb_formatted_code);\n",
       "                        }\n",
       "                        break;\n",
       "                    }\n",
       "                }\n",
       "            }, 500);\n",
       "            "
      ],
      "text/plain": [
       "<IPython.core.display.Javascript object>"
      ]
     },
     "metadata": {},
     "output_type": "display_data"
    }
   ],
   "source": [
    "confusion_matrix(y_test, y_pred, normalize=\"true\")"
   ]
  },
  {
   "cell_type": "code",
   "execution_count": 21,
   "metadata": {},
   "outputs": [
    {
     "data": {
      "text/html": [
       "<div>\n",
       "<style scoped>\n",
       "    .dataframe tbody tr th:only-of-type {\n",
       "        vertical-align: middle;\n",
       "    }\n",
       "\n",
       "    .dataframe tbody tr th {\n",
       "        vertical-align: top;\n",
       "    }\n",
       "\n",
       "    .dataframe thead th {\n",
       "        text-align: right;\n",
       "    }\n",
       "</style>\n",
       "<table border=\"1\" class=\"dataframe\">\n",
       "  <thead>\n",
       "    <tr style=\"text-align: right;\">\n",
       "      <th></th>\n",
       "      <th>feat</th>\n",
       "      <th>importance</th>\n",
       "    </tr>\n",
       "  </thead>\n",
       "  <tbody>\n",
       "    <tr>\n",
       "      <th>10</th>\n",
       "      <td>Term_years</td>\n",
       "      <td>0.277175</td>\n",
       "    </tr>\n",
       "    <tr>\n",
       "      <th>18</th>\n",
       "      <td>bank_size</td>\n",
       "      <td>0.239319</td>\n",
       "    </tr>\n",
       "    <tr>\n",
       "      <th>9</th>\n",
       "      <td>bank_out_of_state</td>\n",
       "      <td>0.180649</td>\n",
       "    </tr>\n",
       "    <tr>\n",
       "      <th>1</th>\n",
       "      <td>BankState</td>\n",
       "      <td>0.093512</td>\n",
       "    </tr>\n",
       "    <tr>\n",
       "      <th>14</th>\n",
       "      <td>Disbr_year</td>\n",
       "      <td>0.071084</td>\n",
       "    </tr>\n",
       "    <tr>\n",
       "      <th>0</th>\n",
       "      <td>State</td>\n",
       "      <td>0.048077</td>\n",
       "    </tr>\n",
       "    <tr>\n",
       "      <th>19</th>\n",
       "      <td>percent_SBA</td>\n",
       "      <td>0.028963</td>\n",
       "    </tr>\n",
       "    <tr>\n",
       "      <th>5</th>\n",
       "      <td>LowDoc</td>\n",
       "      <td>0.027991</td>\n",
       "    </tr>\n",
       "    <tr>\n",
       "      <th>7</th>\n",
       "      <td>twoDigNAICS</td>\n",
       "      <td>0.022567</td>\n",
       "    </tr>\n",
       "    <tr>\n",
       "      <th>6</th>\n",
       "      <td>DisbursementGross</td>\n",
       "      <td>0.010663</td>\n",
       "    </tr>\n",
       "    <tr>\n",
       "      <th>20</th>\n",
       "      <td>Appv_Month_sin</td>\n",
       "      <td>0.000000</td>\n",
       "    </tr>\n",
       "    <tr>\n",
       "      <th>17</th>\n",
       "      <td>sba_pre_approv</td>\n",
       "      <td>0.000000</td>\n",
       "    </tr>\n",
       "    <tr>\n",
       "      <th>16</th>\n",
       "      <td>Disbr_Month_cos</td>\n",
       "      <td>0.000000</td>\n",
       "    </tr>\n",
       "    <tr>\n",
       "      <th>15</th>\n",
       "      <td>Disbr_Month_sin</td>\n",
       "      <td>0.000000</td>\n",
       "    </tr>\n",
       "    <tr>\n",
       "      <th>11</th>\n",
       "      <td>job_category</td>\n",
       "      <td>0.000000</td>\n",
       "    </tr>\n",
       "    <tr>\n",
       "      <th>13</th>\n",
       "      <td>UrbanRural_cleaned</td>\n",
       "      <td>0.000000</td>\n",
       "    </tr>\n",
       "    <tr>\n",
       "      <th>12</th>\n",
       "      <td>retained_category</td>\n",
       "      <td>0.000000</td>\n",
       "    </tr>\n",
       "    <tr>\n",
       "      <th>8</th>\n",
       "      <td>is_franchise</td>\n",
       "      <td>0.000000</td>\n",
       "    </tr>\n",
       "    <tr>\n",
       "      <th>4</th>\n",
       "      <td>RevLineCr</td>\n",
       "      <td>0.000000</td>\n",
       "    </tr>\n",
       "    <tr>\n",
       "      <th>3</th>\n",
       "      <td>NewExist</td>\n",
       "      <td>0.000000</td>\n",
       "    </tr>\n",
       "    <tr>\n",
       "      <th>2</th>\n",
       "      <td>NoEmp</td>\n",
       "      <td>0.000000</td>\n",
       "    </tr>\n",
       "    <tr>\n",
       "      <th>21</th>\n",
       "      <td>Appv_Month_cos</td>\n",
       "      <td>0.000000</td>\n",
       "    </tr>\n",
       "  </tbody>\n",
       "</table>\n",
       "</div>"
      ],
      "text/plain": [
       "                  feat  importance\n",
       "10          Term_years    0.277175\n",
       "18           bank_size    0.239319\n",
       "9    bank_out_of_state    0.180649\n",
       "1            BankState    0.093512\n",
       "14          Disbr_year    0.071084\n",
       "0                State    0.048077\n",
       "19         percent_SBA    0.028963\n",
       "5               LowDoc    0.027991\n",
       "7          twoDigNAICS    0.022567\n",
       "6    DisbursementGross    0.010663\n",
       "20      Appv_Month_sin    0.000000\n",
       "17      sba_pre_approv    0.000000\n",
       "16     Disbr_Month_cos    0.000000\n",
       "15     Disbr_Month_sin    0.000000\n",
       "11        job_category    0.000000\n",
       "13  UrbanRural_cleaned    0.000000\n",
       "12   retained_category    0.000000\n",
       "8         is_franchise    0.000000\n",
       "4            RevLineCr    0.000000\n",
       "3             NewExist    0.000000\n",
       "2                NoEmp    0.000000\n",
       "21      Appv_Month_cos    0.000000"
      ]
     },
     "execution_count": 21,
     "metadata": {},
     "output_type": "execute_result"
    },
    {
     "data": {
      "application/javascript": [
       "\n",
       "            setTimeout(function() {\n",
       "                var nbb_cell_id = 21;\n",
       "                var nbb_unformatted_code = \"importance_df = pd.DataFrame(\\n    {\\n        \\\"feat\\\": X_train.columns,\\n        \\\"importance\\\": pipeline_cv.best_estimator_.named_steps[\\n            \\\"xgbClass\\\"\\n        ].feature_importances_,\\n    }\\n)\\n\\nimportance_df.sort_values(\\\"importance\\\", ascending=False)\";\n",
       "                var nbb_formatted_code = \"importance_df = pd.DataFrame(\\n    {\\n        \\\"feat\\\": X_train.columns,\\n        \\\"importance\\\": pipeline_cv.best_estimator_.named_steps[\\n            \\\"xgbClass\\\"\\n        ].feature_importances_,\\n    }\\n)\\n\\nimportance_df.sort_values(\\\"importance\\\", ascending=False)\";\n",
       "                var nbb_cells = Jupyter.notebook.get_cells();\n",
       "                for (var i = 0; i < nbb_cells.length; ++i) {\n",
       "                    if (nbb_cells[i].input_prompt_number == nbb_cell_id) {\n",
       "                        if (nbb_cells[i].get_text() == nbb_unformatted_code) {\n",
       "                             nbb_cells[i].set_text(nbb_formatted_code);\n",
       "                        }\n",
       "                        break;\n",
       "                    }\n",
       "                }\n",
       "            }, 500);\n",
       "            "
      ],
      "text/plain": [
       "<IPython.core.display.Javascript object>"
      ]
     },
     "metadata": {},
     "output_type": "display_data"
    }
   ],
   "source": [
    "importance_df = pd.DataFrame(\n",
    "    {\n",
    "        \"feat\": X_train.columns,\n",
    "        \"importance\": pipeline_cv.best_estimator_.named_steps[\n",
    "            \"xgbClass\"\n",
    "        ].feature_importances_,\n",
    "    }\n",
    ")\n",
    "\n",
    "importance_df.sort_values(\"importance\", ascending=False)"
   ]
  },
  {
   "cell_type": "code",
   "execution_count": 22,
   "metadata": {},
   "outputs": [
    {
     "data": {
      "text/plain": [
       "0    385081\n",
       "1    126690\n",
       "Name: MIS_Status, dtype: int64"
      ]
     },
     "execution_count": 22,
     "metadata": {},
     "output_type": "execute_result"
    },
    {
     "data": {
      "application/javascript": [
       "\n",
       "            setTimeout(function() {\n",
       "                var nbb_cell_id = 22;\n",
       "                var nbb_unformatted_code = \"y.value_counts()\";\n",
       "                var nbb_formatted_code = \"y.value_counts()\";\n",
       "                var nbb_cells = Jupyter.notebook.get_cells();\n",
       "                for (var i = 0; i < nbb_cells.length; ++i) {\n",
       "                    if (nbb_cells[i].input_prompt_number == nbb_cell_id) {\n",
       "                        if (nbb_cells[i].get_text() == nbb_unformatted_code) {\n",
       "                             nbb_cells[i].set_text(nbb_formatted_code);\n",
       "                        }\n",
       "                        break;\n",
       "                    }\n",
       "                }\n",
       "            }, 500);\n",
       "            "
      ],
      "text/plain": [
       "<IPython.core.display.Javascript object>"
      ]
     },
     "metadata": {},
     "output_type": "display_data"
    }
   ],
   "source": [
    "y.value_counts()"
   ]
  },
  {
   "cell_type": "markdown",
   "metadata": {},
   "source": [
    "Due to the large class imbalance, the majority class will be down sampled to the size of the minority class. "
   ]
  },
  {
   "cell_type": "code",
   "execution_count": 23,
   "metadata": {},
   "outputs": [
    {
     "data": {
      "text/plain": [
       "0.5"
      ]
     },
     "execution_count": 23,
     "metadata": {},
     "output_type": "execute_result"
    },
    {
     "data": {
      "application/javascript": [
       "\n",
       "            setTimeout(function() {\n",
       "                var nbb_cell_id = 23;\n",
       "                var nbb_unformatted_code = \"X_train_0 = X_train[y_train == 0]\\nX_train_1 = X_train[y_train == 1]\\n\\nn_0 = X_train_0.shape[0]\\nn_1 = X_train_1.shape[0]\\n\\n# Sample majority class to have less observations\\nX_train_0_sample = X_train_0.sample(n_1, replace=False, random_state=42)\\n\\n# # Sample minority class to have less observations\\n# X_train_1_sample = X_train_1.sample(n, replace=True, random_state=42)\\n\\nX_train_resample = pd.concat((X_train_1, X_train_0_sample))\\nX_train_resample = X_train_resample.reset_index(drop=True)\\n\\ny_train_resample = np.array([1] * n_1 + [0] * n_1)\\ny_train_resample.mean()\";\n",
       "                var nbb_formatted_code = \"X_train_0 = X_train[y_train == 0]\\nX_train_1 = X_train[y_train == 1]\\n\\nn_0 = X_train_0.shape[0]\\nn_1 = X_train_1.shape[0]\\n\\n# Sample majority class to have less observations\\nX_train_0_sample = X_train_0.sample(n_1, replace=False, random_state=42)\\n\\n# # Sample minority class to have less observations\\n# X_train_1_sample = X_train_1.sample(n, replace=True, random_state=42)\\n\\nX_train_resample = pd.concat((X_train_1, X_train_0_sample))\\nX_train_resample = X_train_resample.reset_index(drop=True)\\n\\ny_train_resample = np.array([1] * n_1 + [0] * n_1)\\ny_train_resample.mean()\";\n",
       "                var nbb_cells = Jupyter.notebook.get_cells();\n",
       "                for (var i = 0; i < nbb_cells.length; ++i) {\n",
       "                    if (nbb_cells[i].input_prompt_number == nbb_cell_id) {\n",
       "                        if (nbb_cells[i].get_text() == nbb_unformatted_code) {\n",
       "                             nbb_cells[i].set_text(nbb_formatted_code);\n",
       "                        }\n",
       "                        break;\n",
       "                    }\n",
       "                }\n",
       "            }, 500);\n",
       "            "
      ],
      "text/plain": [
       "<IPython.core.display.Javascript object>"
      ]
     },
     "metadata": {},
     "output_type": "display_data"
    }
   ],
   "source": [
    "X_train_0 = X_train[y_train == 0]\n",
    "X_train_1 = X_train[y_train == 1]\n",
    "\n",
    "n_0 = X_train_0.shape[0]\n",
    "n_1 = X_train_1.shape[0]\n",
    "\n",
    "# Sample majority class to have less observations\n",
    "X_train_0_sample = X_train_0.sample(n_1, replace=False, random_state=42)\n",
    "\n",
    "# # Sample minority class to have less observations\n",
    "# X_train_1_sample = X_train_1.sample(n, replace=True, random_state=42)\n",
    "\n",
    "X_train_resample = pd.concat((X_train_1, X_train_0_sample))\n",
    "X_train_resample = X_train_resample.reset_index(drop=True)\n",
    "\n",
    "y_train_resample = np.array([1] * n_1 + [0] * n_1)\n",
    "y_train_resample.mean()"
   ]
  },
  {
   "cell_type": "code",
   "execution_count": 24,
   "metadata": {},
   "outputs": [
    {
     "name": "stdout",
     "output_type": "stream",
     "text": [
      "Fitting 3 folds for each of 27 candidates, totalling 81 fits\n"
     ]
    },
    {
     "name": "stderr",
     "output_type": "stream",
     "text": [
      "[Parallel(n_jobs=-1)]: Using backend LokyBackend with 4 concurrent workers.\n",
      "[Parallel(n_jobs=-1)]: Done  42 tasks      | elapsed:  1.3min\n",
      "[Parallel(n_jobs=-1)]: Done  81 out of  81 | elapsed:  3.0min finished\n"
     ]
    },
    {
     "data": {
      "text/plain": [
       "GridSearchCV(cv=3, error_score=nan,\n",
       "             estimator=Pipeline(memory=None,\n",
       "                                steps=[('preprocessing',\n",
       "                                        ColumnTransformer(n_jobs=None,\n",
       "                                                          remainder='passthrough',\n",
       "                                                          sparse_threshold=0.3,\n",
       "                                                          transformer_weights=None,\n",
       "                                                          transformers=[('leaveOneOut',\n",
       "                                                                         LeaveOneOutEncoder(cols=None,\n",
       "                                                                                            drop_invariant=False,\n",
       "                                                                                            handle_missing='value',\n",
       "                                                                                            handle_unknown='value',\n",
       "                                                                                            random_state=None,\n",
       "                                                                                            return_df=True,\n",
       "                                                                                            sig...\n",
       "                                                      reg_lambda=None,\n",
       "                                                      scale_pos_weight=None,\n",
       "                                                      subsample=None,\n",
       "                                                      tree_method=None,\n",
       "                                                      validate_parameters=None,\n",
       "                                                      verbosity=None))],\n",
       "                                verbose=False),\n",
       "             iid='deprecated', n_jobs=-1,\n",
       "             param_grid={'xgbClass__colsample_bytree': [0.6, 0.8, 1.0],\n",
       "                         'xgbClass__max_depth': [3, 4, 6],\n",
       "                         'xgbClass__subsample': [0.5, 0.75, 1.0]},\n",
       "             pre_dispatch='2*n_jobs', refit=True, return_train_score=False,\n",
       "             scoring=None, verbose=1)"
      ]
     },
     "execution_count": 24,
     "metadata": {},
     "output_type": "execute_result"
    },
    {
     "data": {
      "application/javascript": [
       "\n",
       "            setTimeout(function() {\n",
       "                var nbb_cell_id = 24;\n",
       "                var nbb_unformatted_code = \"pipeline_cv_resample = GridSearchCV(pipeline, grid, verbose=1, n_jobs=-1, cv=3,)\\npipeline_cv_resample.fit(X_train_resample, y_train_resample)\";\n",
       "                var nbb_formatted_code = \"pipeline_cv_resample = GridSearchCV(pipeline, grid, verbose=1, n_jobs=-1, cv=3,)\\npipeline_cv_resample.fit(X_train_resample, y_train_resample)\";\n",
       "                var nbb_cells = Jupyter.notebook.get_cells();\n",
       "                for (var i = 0; i < nbb_cells.length; ++i) {\n",
       "                    if (nbb_cells[i].input_prompt_number == nbb_cell_id) {\n",
       "                        if (nbb_cells[i].get_text() == nbb_unformatted_code) {\n",
       "                             nbb_cells[i].set_text(nbb_formatted_code);\n",
       "                        }\n",
       "                        break;\n",
       "                    }\n",
       "                }\n",
       "            }, 500);\n",
       "            "
      ],
      "text/plain": [
       "<IPython.core.display.Javascript object>"
      ]
     },
     "metadata": {},
     "output_type": "display_data"
    }
   ],
   "source": [
    "pipeline_cv_resample = GridSearchCV(pipeline, grid, verbose=1, n_jobs=-1, cv=3,)\n",
    "pipeline_cv_resample.fit(X_train_resample, y_train_resample)"
   ]
  },
  {
   "cell_type": "code",
   "execution_count": 25,
   "metadata": {},
   "outputs": [
    {
     "data": {
      "text/plain": [
       "{'xgbClass__colsample_bytree': 0.8,\n",
       " 'xgbClass__max_depth': 6,\n",
       " 'xgbClass__subsample': 0.5}"
      ]
     },
     "execution_count": 25,
     "metadata": {},
     "output_type": "execute_result"
    },
    {
     "data": {
      "application/javascript": [
       "\n",
       "            setTimeout(function() {\n",
       "                var nbb_cell_id = 25;\n",
       "                var nbb_unformatted_code = \"pipeline_cv_resample.best_params_\";\n",
       "                var nbb_formatted_code = \"pipeline_cv_resample.best_params_\";\n",
       "                var nbb_cells = Jupyter.notebook.get_cells();\n",
       "                for (var i = 0; i < nbb_cells.length; ++i) {\n",
       "                    if (nbb_cells[i].input_prompt_number == nbb_cell_id) {\n",
       "                        if (nbb_cells[i].get_text() == nbb_unformatted_code) {\n",
       "                             nbb_cells[i].set_text(nbb_formatted_code);\n",
       "                        }\n",
       "                        break;\n",
       "                    }\n",
       "                }\n",
       "            }, 500);\n",
       "            "
      ],
      "text/plain": [
       "<IPython.core.display.Javascript object>"
      ]
     },
     "metadata": {},
     "output_type": "display_data"
    }
   ],
   "source": [
    "pipeline_cv_resample.best_params_"
   ]
  },
  {
   "cell_type": "code",
   "execution_count": 26,
   "metadata": {},
   "outputs": [
    {
     "data": {
      "text/plain": [
       "0.8778223042446612"
      ]
     },
     "execution_count": 26,
     "metadata": {},
     "output_type": "execute_result"
    },
    {
     "data": {
      "application/javascript": [
       "\n",
       "            setTimeout(function() {\n",
       "                var nbb_cell_id = 26;\n",
       "                var nbb_unformatted_code = \"pipeline_cv_resample.score(X_train_resample, y_train_resample)\";\n",
       "                var nbb_formatted_code = \"pipeline_cv_resample.score(X_train_resample, y_train_resample)\";\n",
       "                var nbb_cells = Jupyter.notebook.get_cells();\n",
       "                for (var i = 0; i < nbb_cells.length; ++i) {\n",
       "                    if (nbb_cells[i].input_prompt_number == nbb_cell_id) {\n",
       "                        if (nbb_cells[i].get_text() == nbb_unformatted_code) {\n",
       "                             nbb_cells[i].set_text(nbb_formatted_code);\n",
       "                        }\n",
       "                        break;\n",
       "                    }\n",
       "                }\n",
       "            }, 500);\n",
       "            "
      ],
      "text/plain": [
       "<IPython.core.display.Javascript object>"
      ]
     },
     "metadata": {},
     "output_type": "display_data"
    }
   ],
   "source": [
    "pipeline_cv_resample.score(X_train_resample, y_train_resample)"
   ]
  },
  {
   "cell_type": "code",
   "execution_count": 27,
   "metadata": {},
   "outputs": [
    {
     "data": {
      "text/plain": [
       "0.8460564470115598"
      ]
     },
     "execution_count": 27,
     "metadata": {},
     "output_type": "execute_result"
    },
    {
     "data": {
      "application/javascript": [
       "\n",
       "            setTimeout(function() {\n",
       "                var nbb_cell_id = 27;\n",
       "                var nbb_unformatted_code = \"pipeline_cv_resample.score(X_test, y_test)\";\n",
       "                var nbb_formatted_code = \"pipeline_cv_resample.score(X_test, y_test)\";\n",
       "                var nbb_cells = Jupyter.notebook.get_cells();\n",
       "                for (var i = 0; i < nbb_cells.length; ++i) {\n",
       "                    if (nbb_cells[i].input_prompt_number == nbb_cell_id) {\n",
       "                        if (nbb_cells[i].get_text() == nbb_unformatted_code) {\n",
       "                             nbb_cells[i].set_text(nbb_formatted_code);\n",
       "                        }\n",
       "                        break;\n",
       "                    }\n",
       "                }\n",
       "            }, 500);\n",
       "            "
      ],
      "text/plain": [
       "<IPython.core.display.Javascript object>"
      ]
     },
     "metadata": {},
     "output_type": "display_data"
    }
   ],
   "source": [
    "pipeline_cv_resample.score(X_test, y_test)"
   ]
  },
  {
   "cell_type": "code",
   "execution_count": 28,
   "metadata": {},
   "outputs": [
    {
     "name": "stdout",
     "output_type": "stream",
     "text": [
      "              precision    recall  f1-score   support\n",
      "\n",
      "           0       0.98      0.81      0.89     96078\n",
      "           1       0.63      0.94      0.75     31865\n",
      "\n",
      "    accuracy                           0.85    127943\n",
      "   macro avg       0.80      0.88      0.82    127943\n",
      "weighted avg       0.89      0.85      0.85    127943\n",
      "\n"
     ]
    },
    {
     "data": {
      "application/javascript": [
       "\n",
       "            setTimeout(function() {\n",
       "                var nbb_cell_id = 28;\n",
       "                var nbb_unformatted_code = \"y_pred = pipeline_cv_resample.predict(X_test)\\nprint(classification_report(y_test, y_pred))\";\n",
       "                var nbb_formatted_code = \"y_pred = pipeline_cv_resample.predict(X_test)\\nprint(classification_report(y_test, y_pred))\";\n",
       "                var nbb_cells = Jupyter.notebook.get_cells();\n",
       "                for (var i = 0; i < nbb_cells.length; ++i) {\n",
       "                    if (nbb_cells[i].input_prompt_number == nbb_cell_id) {\n",
       "                        if (nbb_cells[i].get_text() == nbb_unformatted_code) {\n",
       "                             nbb_cells[i].set_text(nbb_formatted_code);\n",
       "                        }\n",
       "                        break;\n",
       "                    }\n",
       "                }\n",
       "            }, 500);\n",
       "            "
      ],
      "text/plain": [
       "<IPython.core.display.Javascript object>"
      ]
     },
     "metadata": {},
     "output_type": "display_data"
    }
   ],
   "source": [
    "y_pred = pipeline_cv_resample.predict(X_test)\n",
    "print(classification_report(y_test, y_pred))"
   ]
  },
  {
   "cell_type": "code",
   "execution_count": 29,
   "metadata": {},
   "outputs": [
    {
     "data": {
      "text/plain": [
       "array([[78160, 17918],\n",
       "       [ 1778, 30087]], dtype=int64)"
      ]
     },
     "execution_count": 29,
     "metadata": {},
     "output_type": "execute_result"
    },
    {
     "data": {
      "application/javascript": [
       "\n",
       "            setTimeout(function() {\n",
       "                var nbb_cell_id = 29;\n",
       "                var nbb_unformatted_code = \"confusion_matrix(y_test, y_pred)\";\n",
       "                var nbb_formatted_code = \"confusion_matrix(y_test, y_pred)\";\n",
       "                var nbb_cells = Jupyter.notebook.get_cells();\n",
       "                for (var i = 0; i < nbb_cells.length; ++i) {\n",
       "                    if (nbb_cells[i].input_prompt_number == nbb_cell_id) {\n",
       "                        if (nbb_cells[i].get_text() == nbb_unformatted_code) {\n",
       "                             nbb_cells[i].set_text(nbb_formatted_code);\n",
       "                        }\n",
       "                        break;\n",
       "                    }\n",
       "                }\n",
       "            }, 500);\n",
       "            "
      ],
      "text/plain": [
       "<IPython.core.display.Javascript object>"
      ]
     },
     "metadata": {},
     "output_type": "display_data"
    }
   ],
   "source": [
    "confusion_matrix(y_test, y_pred)"
   ]
  },
  {
   "cell_type": "code",
   "execution_count": 30,
   "metadata": {},
   "outputs": [
    {
     "data": {
      "text/html": [
       "<div>\n",
       "<style scoped>\n",
       "    .dataframe tbody tr th:only-of-type {\n",
       "        vertical-align: middle;\n",
       "    }\n",
       "\n",
       "    .dataframe tbody tr th {\n",
       "        vertical-align: top;\n",
       "    }\n",
       "\n",
       "    .dataframe thead th {\n",
       "        text-align: right;\n",
       "    }\n",
       "</style>\n",
       "<table border=\"1\" class=\"dataframe\">\n",
       "  <thead>\n",
       "    <tr style=\"text-align: right;\">\n",
       "      <th></th>\n",
       "      <th>feat</th>\n",
       "      <th>importance</th>\n",
       "    </tr>\n",
       "  </thead>\n",
       "  <tbody>\n",
       "    <tr>\n",
       "      <th>10</th>\n",
       "      <td>Term_years</td>\n",
       "      <td>0.380492</td>\n",
       "    </tr>\n",
       "    <tr>\n",
       "      <th>9</th>\n",
       "      <td>bank_out_of_state</td>\n",
       "      <td>0.156057</td>\n",
       "    </tr>\n",
       "    <tr>\n",
       "      <th>1</th>\n",
       "      <td>BankState</td>\n",
       "      <td>0.106188</td>\n",
       "    </tr>\n",
       "    <tr>\n",
       "      <th>14</th>\n",
       "      <td>Disbr_year</td>\n",
       "      <td>0.100384</td>\n",
       "    </tr>\n",
       "    <tr>\n",
       "      <th>18</th>\n",
       "      <td>bank_size</td>\n",
       "      <td>0.071149</td>\n",
       "    </tr>\n",
       "    <tr>\n",
       "      <th>0</th>\n",
       "      <td>State</td>\n",
       "      <td>0.063261</td>\n",
       "    </tr>\n",
       "    <tr>\n",
       "      <th>19</th>\n",
       "      <td>percent_SBA</td>\n",
       "      <td>0.048667</td>\n",
       "    </tr>\n",
       "    <tr>\n",
       "      <th>5</th>\n",
       "      <td>LowDoc</td>\n",
       "      <td>0.015171</td>\n",
       "    </tr>\n",
       "    <tr>\n",
       "      <th>12</th>\n",
       "      <td>retained_category</td>\n",
       "      <td>0.014683</td>\n",
       "    </tr>\n",
       "    <tr>\n",
       "      <th>7</th>\n",
       "      <td>twoDigNAICS</td>\n",
       "      <td>0.013894</td>\n",
       "    </tr>\n",
       "    <tr>\n",
       "      <th>6</th>\n",
       "      <td>DisbursementGross</td>\n",
       "      <td>0.011352</td>\n",
       "    </tr>\n",
       "    <tr>\n",
       "      <th>17</th>\n",
       "      <td>sba_pre_approv</td>\n",
       "      <td>0.005604</td>\n",
       "    </tr>\n",
       "    <tr>\n",
       "      <th>2</th>\n",
       "      <td>NoEmp</td>\n",
       "      <td>0.002574</td>\n",
       "    </tr>\n",
       "    <tr>\n",
       "      <th>3</th>\n",
       "      <td>NewExist</td>\n",
       "      <td>0.001978</td>\n",
       "    </tr>\n",
       "    <tr>\n",
       "      <th>13</th>\n",
       "      <td>UrbanRural_cleaned</td>\n",
       "      <td>0.001889</td>\n",
       "    </tr>\n",
       "    <tr>\n",
       "      <th>16</th>\n",
       "      <td>Disbr_Month_cos</td>\n",
       "      <td>0.001362</td>\n",
       "    </tr>\n",
       "    <tr>\n",
       "      <th>15</th>\n",
       "      <td>Disbr_Month_sin</td>\n",
       "      <td>0.001266</td>\n",
       "    </tr>\n",
       "    <tr>\n",
       "      <th>4</th>\n",
       "      <td>RevLineCr</td>\n",
       "      <td>0.001258</td>\n",
       "    </tr>\n",
       "    <tr>\n",
       "      <th>11</th>\n",
       "      <td>job_category</td>\n",
       "      <td>0.001014</td>\n",
       "    </tr>\n",
       "    <tr>\n",
       "      <th>20</th>\n",
       "      <td>Appv_Month_sin</td>\n",
       "      <td>0.000733</td>\n",
       "    </tr>\n",
       "    <tr>\n",
       "      <th>8</th>\n",
       "      <td>is_franchise</td>\n",
       "      <td>0.000543</td>\n",
       "    </tr>\n",
       "    <tr>\n",
       "      <th>21</th>\n",
       "      <td>Appv_Month_cos</td>\n",
       "      <td>0.000481</td>\n",
       "    </tr>\n",
       "  </tbody>\n",
       "</table>\n",
       "</div>"
      ],
      "text/plain": [
       "                  feat  importance\n",
       "10          Term_years    0.380492\n",
       "9    bank_out_of_state    0.156057\n",
       "1            BankState    0.106188\n",
       "14          Disbr_year    0.100384\n",
       "18           bank_size    0.071149\n",
       "0                State    0.063261\n",
       "19         percent_SBA    0.048667\n",
       "5               LowDoc    0.015171\n",
       "12   retained_category    0.014683\n",
       "7          twoDigNAICS    0.013894\n",
       "6    DisbursementGross    0.011352\n",
       "17      sba_pre_approv    0.005604\n",
       "2                NoEmp    0.002574\n",
       "3             NewExist    0.001978\n",
       "13  UrbanRural_cleaned    0.001889\n",
       "16     Disbr_Month_cos    0.001362\n",
       "15     Disbr_Month_sin    0.001266\n",
       "4            RevLineCr    0.001258\n",
       "11        job_category    0.001014\n",
       "20      Appv_Month_sin    0.000733\n",
       "8         is_franchise    0.000543\n",
       "21      Appv_Month_cos    0.000481"
      ]
     },
     "execution_count": 30,
     "metadata": {},
     "output_type": "execute_result"
    },
    {
     "data": {
      "application/javascript": [
       "\n",
       "            setTimeout(function() {\n",
       "                var nbb_cell_id = 30;\n",
       "                var nbb_unformatted_code = \"importance_df = pd.DataFrame(\\n    {\\n        \\\"feat\\\": X_train.columns,\\n        \\\"importance\\\": pipeline_cv_resample.best_estimator_.named_steps[\\n            \\\"xgbClass\\\"\\n        ].feature_importances_,\\n    }\\n)\\n\\nimportance_df.sort_values(\\\"importance\\\", ascending=False)\";\n",
       "                var nbb_formatted_code = \"importance_df = pd.DataFrame(\\n    {\\n        \\\"feat\\\": X_train.columns,\\n        \\\"importance\\\": pipeline_cv_resample.best_estimator_.named_steps[\\n            \\\"xgbClass\\\"\\n        ].feature_importances_,\\n    }\\n)\\n\\nimportance_df.sort_values(\\\"importance\\\", ascending=False)\";\n",
       "                var nbb_cells = Jupyter.notebook.get_cells();\n",
       "                for (var i = 0; i < nbb_cells.length; ++i) {\n",
       "                    if (nbb_cells[i].input_prompt_number == nbb_cell_id) {\n",
       "                        if (nbb_cells[i].get_text() == nbb_unformatted_code) {\n",
       "                             nbb_cells[i].set_text(nbb_formatted_code);\n",
       "                        }\n",
       "                        break;\n",
       "                    }\n",
       "                }\n",
       "            }, 500);\n",
       "            "
      ],
      "text/plain": [
       "<IPython.core.display.Javascript object>"
      ]
     },
     "metadata": {},
     "output_type": "display_data"
    }
   ],
   "source": [
    "importance_df = pd.DataFrame(\n",
    "    {\n",
    "        \"feat\": X_train.columns,\n",
    "        \"importance\": pipeline_cv_resample.best_estimator_.named_steps[\n",
    "            \"xgbClass\"\n",
    "        ].feature_importances_,\n",
    "    }\n",
    ")\n",
    "\n",
    "importance_df.sort_values(\"importance\", ascending=False)"
   ]
  },
  {
   "cell_type": "code",
   "execution_count": 31,
   "metadata": {},
   "outputs": [
    {
     "name": "stdout",
     "output_type": "stream",
     "text": [
      "Fitting 3 folds for each of 27 candidates, totalling 81 fits\n"
     ]
    },
    {
     "name": "stderr",
     "output_type": "stream",
     "text": [
      "[Parallel(n_jobs=-1)]: Using backend LokyBackend with 4 concurrent workers.\n",
      "[Parallel(n_jobs=-1)]: Done  42 tasks      | elapsed:  1.4min\n",
      "[Parallel(n_jobs=-1)]: Done  81 out of  81 | elapsed:  3.1min finished\n"
     ]
    },
    {
     "data": {
      "text/plain": [
       "GridSearchCV(cv=3, error_score=nan,\n",
       "             estimator=Pipeline(memory=None,\n",
       "                                steps=[('preprocessing',\n",
       "                                        ColumnTransformer(n_jobs=None,\n",
       "                                                          remainder='passthrough',\n",
       "                                                          sparse_threshold=0.3,\n",
       "                                                          transformer_weights=None,\n",
       "                                                          transformers=[('leaveOneOut',\n",
       "                                                                         LeaveOneOutEncoder(cols=None,\n",
       "                                                                                            drop_invariant=False,\n",
       "                                                                                            handle_missing='value',\n",
       "                                                                                            handle_unknown='value',\n",
       "                                                                                            random_state=None,\n",
       "                                                                                            return_df=True,\n",
       "                                                                                            sig...\n",
       "                                                      reg_lambda=None,\n",
       "                                                      scale_pos_weight=None,\n",
       "                                                      subsample=None,\n",
       "                                                      tree_method=None,\n",
       "                                                      validate_parameters=None,\n",
       "                                                      verbosity=None))],\n",
       "                                verbose=False),\n",
       "             iid='deprecated', n_jobs=-1,\n",
       "             param_grid={'xgbClass__colsample_bytree': [0.6, 0.8, 1.0],\n",
       "                         'xgbClass__max_depth': [3, 4, 6],\n",
       "                         'xgbClass__subsample': [0.5, 0.75, 1.0]},\n",
       "             pre_dispatch='2*n_jobs', refit=True, return_train_score=False,\n",
       "             scoring='f1', verbose=1)"
      ]
     },
     "execution_count": 31,
     "metadata": {},
     "output_type": "execute_result"
    },
    {
     "data": {
      "application/javascript": [
       "\n",
       "            setTimeout(function() {\n",
       "                var nbb_cell_id = 31;\n",
       "                var nbb_unformatted_code = \"pipeline_cv_resample_f1 = GridSearchCV(\\n    pipeline, grid, verbose=1, n_jobs=-1, cv=3, scoring=\\\"f1\\\"\\n)\\npipeline_cv_resample_f1.fit(X_train_resample, y_train_resample)\";\n",
       "                var nbb_formatted_code = \"pipeline_cv_resample_f1 = GridSearchCV(\\n    pipeline, grid, verbose=1, n_jobs=-1, cv=3, scoring=\\\"f1\\\"\\n)\\npipeline_cv_resample_f1.fit(X_train_resample, y_train_resample)\";\n",
       "                var nbb_cells = Jupyter.notebook.get_cells();\n",
       "                for (var i = 0; i < nbb_cells.length; ++i) {\n",
       "                    if (nbb_cells[i].input_prompt_number == nbb_cell_id) {\n",
       "                        if (nbb_cells[i].get_text() == nbb_unformatted_code) {\n",
       "                             nbb_cells[i].set_text(nbb_formatted_code);\n",
       "                        }\n",
       "                        break;\n",
       "                    }\n",
       "                }\n",
       "            }, 500);\n",
       "            "
      ],
      "text/plain": [
       "<IPython.core.display.Javascript object>"
      ]
     },
     "metadata": {},
     "output_type": "display_data"
    }
   ],
   "source": [
    "pipeline_cv_resample_f1 = GridSearchCV(\n",
    "    pipeline, grid, verbose=1, n_jobs=-1, cv=3, scoring=\"f1\"\n",
    ")\n",
    "pipeline_cv_resample_f1.fit(X_train_resample, y_train_resample)"
   ]
  },
  {
   "cell_type": "code",
   "execution_count": 32,
   "metadata": {},
   "outputs": [
    {
     "data": {
      "text/plain": [
       "{'xgbClass__colsample_bytree': 0.8,\n",
       " 'xgbClass__max_depth': 6,\n",
       " 'xgbClass__subsample': 0.5}"
      ]
     },
     "execution_count": 32,
     "metadata": {},
     "output_type": "execute_result"
    },
    {
     "data": {
      "application/javascript": [
       "\n",
       "            setTimeout(function() {\n",
       "                var nbb_cell_id = 32;\n",
       "                var nbb_unformatted_code = \"pipeline_cv_resample_f1.best_params_\";\n",
       "                var nbb_formatted_code = \"pipeline_cv_resample_f1.best_params_\";\n",
       "                var nbb_cells = Jupyter.notebook.get_cells();\n",
       "                for (var i = 0; i < nbb_cells.length; ++i) {\n",
       "                    if (nbb_cells[i].input_prompt_number == nbb_cell_id) {\n",
       "                        if (nbb_cells[i].get_text() == nbb_unformatted_code) {\n",
       "                             nbb_cells[i].set_text(nbb_formatted_code);\n",
       "                        }\n",
       "                        break;\n",
       "                    }\n",
       "                }\n",
       "            }, 500);\n",
       "            "
      ],
      "text/plain": [
       "<IPython.core.display.Javascript object>"
      ]
     },
     "metadata": {},
     "output_type": "display_data"
    }
   ],
   "source": [
    "pipeline_cv_resample_f1.best_params_"
   ]
  },
  {
   "cell_type": "code",
   "execution_count": 33,
   "metadata": {},
   "outputs": [
    {
     "data": {
      "text/plain": [
       "0.8855170778222998"
      ]
     },
     "execution_count": 33,
     "metadata": {},
     "output_type": "execute_result"
    },
    {
     "data": {
      "application/javascript": [
       "\n",
       "            setTimeout(function() {\n",
       "                var nbb_cell_id = 33;\n",
       "                var nbb_unformatted_code = \"pipeline_cv_resample_f1.score(X_train_resample, y_train_resample)\";\n",
       "                var nbb_formatted_code = \"pipeline_cv_resample_f1.score(X_train_resample, y_train_resample)\";\n",
       "                var nbb_cells = Jupyter.notebook.get_cells();\n",
       "                for (var i = 0; i < nbb_cells.length; ++i) {\n",
       "                    if (nbb_cells[i].input_prompt_number == nbb_cell_id) {\n",
       "                        if (nbb_cells[i].get_text() == nbb_unformatted_code) {\n",
       "                             nbb_cells[i].set_text(nbb_formatted_code);\n",
       "                        }\n",
       "                        break;\n",
       "                    }\n",
       "                }\n",
       "            }, 500);\n",
       "            "
      ],
      "text/plain": [
       "<IPython.core.display.Javascript object>"
      ]
     },
     "metadata": {},
     "output_type": "display_data"
    }
   ],
   "source": [
    "pipeline_cv_resample_f1.score(X_train_resample, y_train_resample)"
   ]
  },
  {
   "cell_type": "code",
   "execution_count": 34,
   "metadata": {},
   "outputs": [
    {
     "data": {
      "text/plain": [
       "0.7533992738199575"
      ]
     },
     "execution_count": 34,
     "metadata": {},
     "output_type": "execute_result"
    },
    {
     "data": {
      "application/javascript": [
       "\n",
       "            setTimeout(function() {\n",
       "                var nbb_cell_id = 34;\n",
       "                var nbb_unformatted_code = \"pipeline_cv_resample_f1.score(X_test, y_test)\";\n",
       "                var nbb_formatted_code = \"pipeline_cv_resample_f1.score(X_test, y_test)\";\n",
       "                var nbb_cells = Jupyter.notebook.get_cells();\n",
       "                for (var i = 0; i < nbb_cells.length; ++i) {\n",
       "                    if (nbb_cells[i].input_prompt_number == nbb_cell_id) {\n",
       "                        if (nbb_cells[i].get_text() == nbb_unformatted_code) {\n",
       "                             nbb_cells[i].set_text(nbb_formatted_code);\n",
       "                        }\n",
       "                        break;\n",
       "                    }\n",
       "                }\n",
       "            }, 500);\n",
       "            "
      ],
      "text/plain": [
       "<IPython.core.display.Javascript object>"
      ]
     },
     "metadata": {},
     "output_type": "display_data"
    }
   ],
   "source": [
    "pipeline_cv_resample_f1.score(X_test, y_test)"
   ]
  },
  {
   "cell_type": "code",
   "execution_count": 35,
   "metadata": {},
   "outputs": [
    {
     "name": "stdout",
     "output_type": "stream",
     "text": [
      "              precision    recall  f1-score   support\n",
      "\n",
      "           0       0.98      0.81      0.89     96078\n",
      "           1       0.63      0.94      0.75     31865\n",
      "\n",
      "    accuracy                           0.85    127943\n",
      "   macro avg       0.80      0.88      0.82    127943\n",
      "weighted avg       0.89      0.85      0.85    127943\n",
      "\n"
     ]
    },
    {
     "data": {
      "application/javascript": [
       "\n",
       "            setTimeout(function() {\n",
       "                var nbb_cell_id = 35;\n",
       "                var nbb_unformatted_code = \"y_pred = pipeline_cv_resample_f1.predict(X_test)\\nprint(classification_report(y_test, y_pred))\";\n",
       "                var nbb_formatted_code = \"y_pred = pipeline_cv_resample_f1.predict(X_test)\\nprint(classification_report(y_test, y_pred))\";\n",
       "                var nbb_cells = Jupyter.notebook.get_cells();\n",
       "                for (var i = 0; i < nbb_cells.length; ++i) {\n",
       "                    if (nbb_cells[i].input_prompt_number == nbb_cell_id) {\n",
       "                        if (nbb_cells[i].get_text() == nbb_unformatted_code) {\n",
       "                             nbb_cells[i].set_text(nbb_formatted_code);\n",
       "                        }\n",
       "                        break;\n",
       "                    }\n",
       "                }\n",
       "            }, 500);\n",
       "            "
      ],
      "text/plain": [
       "<IPython.core.display.Javascript object>"
      ]
     },
     "metadata": {},
     "output_type": "display_data"
    }
   ],
   "source": [
    "y_pred = pipeline_cv_resample_f1.predict(X_test)\n",
    "print(classification_report(y_test, y_pred))"
   ]
  },
  {
   "cell_type": "code",
   "execution_count": null,
   "metadata": {},
   "outputs": [],
   "source": []
  },
  {
   "cell_type": "code",
   "execution_count": 36,
   "metadata": {},
   "outputs": [
    {
     "data": {
      "text/html": [
       "<div>\n",
       "<style scoped>\n",
       "    .dataframe tbody tr th:only-of-type {\n",
       "        vertical-align: middle;\n",
       "    }\n",
       "\n",
       "    .dataframe tbody tr th {\n",
       "        vertical-align: top;\n",
       "    }\n",
       "\n",
       "    .dataframe thead th {\n",
       "        text-align: right;\n",
       "    }\n",
       "</style>\n",
       "<table border=\"1\" class=\"dataframe\">\n",
       "  <thead>\n",
       "    <tr style=\"text-align: right;\">\n",
       "      <th></th>\n",
       "      <th>feat</th>\n",
       "      <th>importance</th>\n",
       "    </tr>\n",
       "  </thead>\n",
       "  <tbody>\n",
       "    <tr>\n",
       "      <th>10</th>\n",
       "      <td>Term_years</td>\n",
       "      <td>0.380492</td>\n",
       "    </tr>\n",
       "    <tr>\n",
       "      <th>9</th>\n",
       "      <td>bank_out_of_state</td>\n",
       "      <td>0.156057</td>\n",
       "    </tr>\n",
       "    <tr>\n",
       "      <th>1</th>\n",
       "      <td>BankState</td>\n",
       "      <td>0.106188</td>\n",
       "    </tr>\n",
       "    <tr>\n",
       "      <th>14</th>\n",
       "      <td>Disbr_year</td>\n",
       "      <td>0.100384</td>\n",
       "    </tr>\n",
       "    <tr>\n",
       "      <th>18</th>\n",
       "      <td>bank_size</td>\n",
       "      <td>0.071149</td>\n",
       "    </tr>\n",
       "    <tr>\n",
       "      <th>0</th>\n",
       "      <td>State</td>\n",
       "      <td>0.063261</td>\n",
       "    </tr>\n",
       "    <tr>\n",
       "      <th>19</th>\n",
       "      <td>percent_SBA</td>\n",
       "      <td>0.048667</td>\n",
       "    </tr>\n",
       "    <tr>\n",
       "      <th>5</th>\n",
       "      <td>LowDoc</td>\n",
       "      <td>0.015171</td>\n",
       "    </tr>\n",
       "    <tr>\n",
       "      <th>12</th>\n",
       "      <td>retained_category</td>\n",
       "      <td>0.014683</td>\n",
       "    </tr>\n",
       "    <tr>\n",
       "      <th>7</th>\n",
       "      <td>twoDigNAICS</td>\n",
       "      <td>0.013894</td>\n",
       "    </tr>\n",
       "    <tr>\n",
       "      <th>6</th>\n",
       "      <td>DisbursementGross</td>\n",
       "      <td>0.011352</td>\n",
       "    </tr>\n",
       "    <tr>\n",
       "      <th>17</th>\n",
       "      <td>sba_pre_approv</td>\n",
       "      <td>0.005604</td>\n",
       "    </tr>\n",
       "    <tr>\n",
       "      <th>2</th>\n",
       "      <td>NoEmp</td>\n",
       "      <td>0.002574</td>\n",
       "    </tr>\n",
       "    <tr>\n",
       "      <th>3</th>\n",
       "      <td>NewExist</td>\n",
       "      <td>0.001978</td>\n",
       "    </tr>\n",
       "    <tr>\n",
       "      <th>13</th>\n",
       "      <td>UrbanRural_cleaned</td>\n",
       "      <td>0.001889</td>\n",
       "    </tr>\n",
       "    <tr>\n",
       "      <th>16</th>\n",
       "      <td>Disbr_Month_cos</td>\n",
       "      <td>0.001362</td>\n",
       "    </tr>\n",
       "    <tr>\n",
       "      <th>15</th>\n",
       "      <td>Disbr_Month_sin</td>\n",
       "      <td>0.001266</td>\n",
       "    </tr>\n",
       "    <tr>\n",
       "      <th>4</th>\n",
       "      <td>RevLineCr</td>\n",
       "      <td>0.001258</td>\n",
       "    </tr>\n",
       "    <tr>\n",
       "      <th>11</th>\n",
       "      <td>job_category</td>\n",
       "      <td>0.001014</td>\n",
       "    </tr>\n",
       "    <tr>\n",
       "      <th>20</th>\n",
       "      <td>Appv_Month_sin</td>\n",
       "      <td>0.000733</td>\n",
       "    </tr>\n",
       "    <tr>\n",
       "      <th>8</th>\n",
       "      <td>is_franchise</td>\n",
       "      <td>0.000543</td>\n",
       "    </tr>\n",
       "    <tr>\n",
       "      <th>21</th>\n",
       "      <td>Appv_Month_cos</td>\n",
       "      <td>0.000481</td>\n",
       "    </tr>\n",
       "  </tbody>\n",
       "</table>\n",
       "</div>"
      ],
      "text/plain": [
       "                  feat  importance\n",
       "10          Term_years    0.380492\n",
       "9    bank_out_of_state    0.156057\n",
       "1            BankState    0.106188\n",
       "14          Disbr_year    0.100384\n",
       "18           bank_size    0.071149\n",
       "0                State    0.063261\n",
       "19         percent_SBA    0.048667\n",
       "5               LowDoc    0.015171\n",
       "12   retained_category    0.014683\n",
       "7          twoDigNAICS    0.013894\n",
       "6    DisbursementGross    0.011352\n",
       "17      sba_pre_approv    0.005604\n",
       "2                NoEmp    0.002574\n",
       "3             NewExist    0.001978\n",
       "13  UrbanRural_cleaned    0.001889\n",
       "16     Disbr_Month_cos    0.001362\n",
       "15     Disbr_Month_sin    0.001266\n",
       "4            RevLineCr    0.001258\n",
       "11        job_category    0.001014\n",
       "20      Appv_Month_sin    0.000733\n",
       "8         is_franchise    0.000543\n",
       "21      Appv_Month_cos    0.000481"
      ]
     },
     "execution_count": 36,
     "metadata": {},
     "output_type": "execute_result"
    },
    {
     "data": {
      "application/javascript": [
       "\n",
       "            setTimeout(function() {\n",
       "                var nbb_cell_id = 36;\n",
       "                var nbb_unformatted_code = \"importance_df = pd.DataFrame(\\n    {\\n        \\\"feat\\\": X_train.columns,\\n        \\\"importance\\\": pipeline_cv_resample_f1.best_estimator_.named_steps[\\n            \\\"xgbClass\\\"\\n        ].feature_importances_,\\n    }\\n)\\n\\nimportance_df.sort_values(\\\"importance\\\", ascending=False)\";\n",
       "                var nbb_formatted_code = \"importance_df = pd.DataFrame(\\n    {\\n        \\\"feat\\\": X_train.columns,\\n        \\\"importance\\\": pipeline_cv_resample_f1.best_estimator_.named_steps[\\n            \\\"xgbClass\\\"\\n        ].feature_importances_,\\n    }\\n)\\n\\nimportance_df.sort_values(\\\"importance\\\", ascending=False)\";\n",
       "                var nbb_cells = Jupyter.notebook.get_cells();\n",
       "                for (var i = 0; i < nbb_cells.length; ++i) {\n",
       "                    if (nbb_cells[i].input_prompt_number == nbb_cell_id) {\n",
       "                        if (nbb_cells[i].get_text() == nbb_unformatted_code) {\n",
       "                             nbb_cells[i].set_text(nbb_formatted_code);\n",
       "                        }\n",
       "                        break;\n",
       "                    }\n",
       "                }\n",
       "            }, 500);\n",
       "            "
      ],
      "text/plain": [
       "<IPython.core.display.Javascript object>"
      ]
     },
     "metadata": {},
     "output_type": "display_data"
    }
   ],
   "source": [
    "importance_df = pd.DataFrame(\n",
    "    {\n",
    "        \"feat\": X_train.columns,\n",
    "        \"importance\": pipeline_cv_resample_f1.best_estimator_.named_steps[\n",
    "            \"xgbClass\"\n",
    "        ].feature_importances_,\n",
    "    }\n",
    ")\n",
    "\n",
    "importance_df.sort_values(\"importance\", ascending=False)"
   ]
  },
  {
   "cell_type": "code",
   "execution_count": null,
   "metadata": {},
   "outputs": [],
   "source": []
  },
  {
   "cell_type": "code",
   "execution_count": null,
   "metadata": {},
   "outputs": [],
   "source": []
  },
  {
   "cell_type": "code",
   "execution_count": null,
   "metadata": {},
   "outputs": [],
   "source": [
    "rf_grid = {\n",
    "    \n",
    "}"
   ]
  },
  {
   "cell_type": "code",
   "execution_count": 37,
   "metadata": {},
   "outputs": [
    {
     "data": {
      "application/javascript": [
       "\n",
       "            setTimeout(function() {\n",
       "                var nbb_cell_id = 37;\n",
       "                var nbb_unformatted_code = \"rf_pipeline = Pipeline(\\n    [\\n        ('preprocessing', preprocessing),\\n        ('rf_class', RandomForestClassifier())\\n    ])\";\n",
       "                var nbb_formatted_code = \"rf_pipeline = Pipeline(\\n    [(\\\"preprocessing\\\", preprocessing), (\\\"rf_class\\\", RandomForestClassifier())]\\n)\";\n",
       "                var nbb_cells = Jupyter.notebook.get_cells();\n",
       "                for (var i = 0; i < nbb_cells.length; ++i) {\n",
       "                    if (nbb_cells[i].input_prompt_number == nbb_cell_id) {\n",
       "                        if (nbb_cells[i].get_text() == nbb_unformatted_code) {\n",
       "                             nbb_cells[i].set_text(nbb_formatted_code);\n",
       "                        }\n",
       "                        break;\n",
       "                    }\n",
       "                }\n",
       "            }, 500);\n",
       "            "
      ],
      "text/plain": [
       "<IPython.core.display.Javascript object>"
      ]
     },
     "metadata": {},
     "output_type": "display_data"
    }
   ],
   "source": [
    "rf_pipeline = Pipeline(\n",
    "    [\n",
    "        ('preprocessing', preprocessing),\n",
    "        ('rf_class', RandomForestClassifier())\n",
    "    ])\n"
   ]
  },
  {
   "cell_type": "code",
   "execution_count": null,
   "metadata": {},
   "outputs": [],
   "source": [
    "rf_cv = GridSearchCV"
   ]
  }
 ],
 "metadata": {
  "kernelspec": {
   "display_name": "Python 3",
   "language": "python",
   "name": "python3"
  },
  "language_info": {
   "codemirror_mode": {
    "name": "ipython",
    "version": 3
   },
   "file_extension": ".py",
   "mimetype": "text/x-python",
   "name": "python",
   "nbconvert_exporter": "python",
   "pygments_lexer": "ipython3",
   "version": "3.7.6"
  }
 },
 "nbformat": 4,
 "nbformat_minor": 4
}
